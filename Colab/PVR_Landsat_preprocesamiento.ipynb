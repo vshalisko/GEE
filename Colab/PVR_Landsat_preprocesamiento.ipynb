{
  "nbformat": 4,
  "nbformat_minor": 0,
  "metadata": {
    "colab": {
      "provenance": [],
      "authorship_tag": "ABX9TyPzLrzBxnknHaDat/xVTUkD",
      "include_colab_link": true
    },
    "kernelspec": {
      "name": "python3",
      "display_name": "Python 3"
    },
    "language_info": {
      "name": "python"
    }
  },
  "cells": [
    {
      "cell_type": "markdown",
      "metadata": {
        "id": "view-in-github",
        "colab_type": "text"
      },
      "source": [
        "<a href=\"https://colab.research.google.com/github/vshalisko/GEE/blob/main/Colab/PVR_Landsat_preprocesamiento.ipynb\" target=\"_parent\"><img src=\"https://colab.research.google.com/assets/colab-badge.svg\" alt=\"Open In Colab\"/></a>"
      ]
    },
    {
      "cell_type": "markdown",
      "source": [
        "### Preprocesamiento de Landsat 8 para ANN\n",
        "* PVR - Puerto Vallarta\n",
        "* Versión con la estandarizaciíón de datos con StandardScaler\n",
        "* Referencia tres clases (no-urbano, urbano, agua)"
      ],
      "metadata": {
        "id": "ZZ-g7d6S-KlK"
      }
    },
    {
      "cell_type": "markdown",
      "source": [
        "Preparar el entorno"
      ],
      "metadata": {
        "id": "ILpO2-fH-AX1"
      }
    },
    {
      "cell_type": "code",
      "execution_count": 1,
      "metadata": {
        "id": "i7KszOl_ewUc"
      },
      "outputs": [],
      "source": [
        "import ee\n",
        "import geemap\n",
        "import random\n",
        "import math, glob, time\n",
        "import numpy as np\n",
        "import matplotlib.pyplot as plt\n",
        "from google.colab import drive\n",
        "\n",
        "random.seed(2)"
      ]
    },
    {
      "cell_type": "markdown",
      "source": [
        "Conección con GEE"
      ],
      "metadata": {
        "id": "zqJE7_oDexQr"
      }
    },
    {
      "cell_type": "code",
      "source": [
        "# Trigger the authentication flow.\n",
        "ee.Authenticate()\n",
        "\n",
        "# Initialize the library.\n",
        "ee.Initialize(project='ee-viacheslavs')"
      ],
      "metadata": {
        "id": "iWoCyfWIe98n",
        "colab": {
          "base_uri": "https://localhost:8080/",
          "height": 17
        },
        "outputId": "7dbd04bf-ae96-402c-e102-9eb5696e7c6b"
      },
      "execution_count": 2,
      "outputs": [
        {
          "output_type": "display_data",
          "data": {
            "text/plain": [
              "<IPython.core.display.HTML object>"
            ],
            "text/html": [
              "\n",
              "            <style>\n",
              "                .geemap-dark {\n",
              "                    --jp-widgets-color: white;\n",
              "                    --jp-widgets-label-color: white;\n",
              "                    --jp-ui-font-color1: white;\n",
              "                    --jp-layout-color2: #454545;\n",
              "                    background-color: #383838;\n",
              "                }\n",
              "\n",
              "                .geemap-dark .jupyter-button {\n",
              "                    --jp-layout-color3: #383838;\n",
              "                }\n",
              "\n",
              "                .geemap-colab {\n",
              "                    background-color: var(--colab-primary-surface-color, white);\n",
              "                }\n",
              "\n",
              "                .geemap-colab .jupyter-button {\n",
              "                    --jp-layout-color3: var(--colab-primary-surface-color, white);\n",
              "                }\n",
              "            </style>\n",
              "            "
            ]
          },
          "metadata": {}
        }
      ]
    },
    {
      "cell_type": "markdown",
      "source": [
        "Coneccion con Google Drive para almacenar archivos"
      ],
      "metadata": {
        "id": "aOkTHatgjZCW"
      }
    },
    {
      "cell_type": "code",
      "source": [
        "drive.mount('/content/drive')"
      ],
      "metadata": {
        "colab": {
          "base_uri": "https://localhost:8080/",
          "height": 34
        },
        "id": "lBnPhqiFjYk0",
        "outputId": "d45d37ac-94a2-4eed-af61-e7e9b966af24"
      },
      "execution_count": 3,
      "outputs": [
        {
          "output_type": "display_data",
          "data": {
            "text/plain": [
              "<IPython.core.display.HTML object>"
            ],
            "text/html": [
              "\n",
              "            <style>\n",
              "                .geemap-dark {\n",
              "                    --jp-widgets-color: white;\n",
              "                    --jp-widgets-label-color: white;\n",
              "                    --jp-ui-font-color1: white;\n",
              "                    --jp-layout-color2: #454545;\n",
              "                    background-color: #383838;\n",
              "                }\n",
              "\n",
              "                .geemap-dark .jupyter-button {\n",
              "                    --jp-layout-color3: #383838;\n",
              "                }\n",
              "\n",
              "                .geemap-colab {\n",
              "                    background-color: var(--colab-primary-surface-color, white);\n",
              "                }\n",
              "\n",
              "                .geemap-colab .jupyter-button {\n",
              "                    --jp-layout-color3: var(--colab-primary-surface-color, white);\n",
              "                }\n",
              "            </style>\n",
              "            "
            ]
          },
          "metadata": {}
        },
        {
          "output_type": "stream",
          "name": "stdout",
          "text": [
            "Mounted at /content/drive\n"
          ]
        }
      ]
    },
    {
      "cell_type": "markdown",
      "source": [
        "Definición de variables"
      ],
      "metadata": {
        "id": "fmmgkO1rMTLA"
      }
    },
    {
      "cell_type": "code",
      "source": [
        "prefijo = 'PVR'\n",
        "\n",
        "fecha_inicio_2020 = '2020-02-01'\n",
        "fecha_final_2020 = '2020-05-30'\n",
        "fecha_inicio_2015 = '2014-01-01'\n",
        "fecha_final_2015 = '2014-06-30'\n",
        "fecha_inicio_2014 = '2014-02-01'\n",
        "fecha_final_2014 = '2014-05-30'\n",
        "fecha_inicio_2011 = '2011-02-01'\n",
        "fecha_final_2011 = '2011-05-30'\n",
        "fecha_inicio_2010 = '2011-02-01'\n",
        "fecha_final_2010 = '2011-05-30'\n",
        "fecha_inicio_2000 = '2000-02-01'\n",
        "fecha_final_2000 = '2000-05-30'\n",
        "\n",
        "\n",
        "punto_interes = ee.Geometry.Point([-105.220786, 20.653407])\n",
        "print(punto_interes.getInfo())\n",
        "\n",
        "limites_utm = [458357, 487846, 2274844, 2303938]\n",
        "pixel = 30\n",
        "#max_tile = 250000\n",
        "max_tile = 50000\n",
        "utm13 = ee.Projection('EPSG:32613')\n",
        "\n",
        "bands_L8 = ['SR_B2','SR_B3','SR_B4','SR_B5','SR_B6','SR_B7']\n",
        "bands_L5 = ['SR_B1','SR_B2','SR_B3','SR_B4','SR_B5','SR_B7']\n",
        "bands_B = ['settlement']"
      ],
      "metadata": {
        "colab": {
          "base_uri": "https://localhost:8080/",
          "height": 34
        },
        "id": "OA0br9MHMSnT",
        "outputId": "205f7fa4-9995-49e8-fe60-2372b309e12b"
      },
      "execution_count": 37,
      "outputs": [
        {
          "output_type": "display_data",
          "data": {
            "text/plain": [
              "<IPython.core.display.HTML object>"
            ],
            "text/html": [
              "\n",
              "            <style>\n",
              "                .geemap-dark {\n",
              "                    --jp-widgets-color: white;\n",
              "                    --jp-widgets-label-color: white;\n",
              "                    --jp-ui-font-color1: white;\n",
              "                    --jp-layout-color2: #454545;\n",
              "                    background-color: #383838;\n",
              "                }\n",
              "\n",
              "                .geemap-dark .jupyter-button {\n",
              "                    --jp-layout-color3: #383838;\n",
              "                }\n",
              "\n",
              "                .geemap-colab {\n",
              "                    background-color: var(--colab-primary-surface-color, white);\n",
              "                }\n",
              "\n",
              "                .geemap-colab .jupyter-button {\n",
              "                    --jp-layout-color3: var(--colab-primary-surface-color, white);\n",
              "                }\n",
              "            </style>\n",
              "            "
            ]
          },
          "metadata": {}
        },
        {
          "output_type": "stream",
          "name": "stdout",
          "text": [
            "{'type': 'Point', 'coordinates': [-105.220786, 20.653407]}\n"
          ]
        }
      ]
    },
    {
      "cell_type": "markdown",
      "source": [
        "Lectur de datos Lanstas 8"
      ],
      "metadata": {
        "id": "geOT23sFfpTK"
      }
    },
    {
      "cell_type": "code",
      "source": [
        "# filtrado de datos Landsat potencialemtne adecuados\n",
        "L8_collection_2020 = (ee.ImageCollection(\"LANDSAT/LC08/C02/T1_L2\")\n",
        "                      .filterBounds(punto_interes)\n",
        "                      .filterDate(fecha_inicio_2020, fecha_final_2020)\n",
        "                      .filter(ee.Filter.lessThan('CLOUD_COVER', 1)))\n",
        "print('Capas de datos filtrados 2020:', L8_collection_2020.size().getInfo())\n",
        "\n",
        "# Cargar imagen de la colección (Landsat 8).\n",
        "L8_image_2020 = L8_collection_2020.first()\n",
        "image_meta_2020 = L8_image_2020.getInfo()\n",
        "imagename_2020 = image_meta_2020.get('properties',{}).get('LANDSAT_PRODUCT_ID')\n",
        "print('Imagen 2020 elegido:', imagename_2020)\n",
        "\n",
        "\n",
        "L8_collection_2015 = (ee.ImageCollection(\"LANDSAT/LC08/C02/T1_L2\")\n",
        "                      .filterBounds(punto_interes)\n",
        "                      .filterDate(fecha_inicio_2015, fecha_final_2015)\n",
        "                      .filter(ee.Filter.lessThan('CLOUD_COVER', 5)))\n",
        "print('Capas de datos filtrados 2015:', L8_collection_2015.size().getInfo())\n",
        "\n",
        "# Cargar imagen de la colección (Landsat 8).\n",
        "L8_image_2015 = L8_collection_2015.first()\n",
        "image_meta_2015 = L8_image_2015.getInfo()\n",
        "imagename_2015 = image_meta_2015.get('properties',{}).get('LANDSAT_PRODUCT_ID')\n",
        "print('Imagen 2015 elegido:', imagename_2015)\n",
        "\n",
        "\n",
        "L8_collection_2014 = (ee.ImageCollection(\"LANDSAT/LC08/C02/T1_L2\")\n",
        "                      .filterBounds(punto_interes)\n",
        "                      .filterDate(fecha_inicio_2014, fecha_final_2014)\n",
        "                      .filter(ee.Filter.lessThan('CLOUD_COVER', 1)))\n",
        "print('Capas de datos filtrados 2014:', L8_collection_2014.size().getInfo())\n",
        "\n",
        "# Cargar imagen de la colección (Landsat 8).\n",
        "L8_image_2014 = L8_collection_2014.first()\n",
        "image_meta_2014 = L8_image_2014.getInfo()\n",
        "imagename_2014 = image_meta_2014.get('properties',{}).get('LANDSAT_PRODUCT_ID')\n",
        "print('Imagen 2014 elegido:', imagename_2014)\n"
      ],
      "metadata": {
        "id": "MEqGIlyoe-mj",
        "colab": {
          "base_uri": "https://localhost:8080/",
          "height": 121
        },
        "outputId": "51de86cb-a6a8-44e1-8b96-8f8cc3b53d13"
      },
      "execution_count": 34,
      "outputs": [
        {
          "output_type": "display_data",
          "data": {
            "text/plain": [
              "<IPython.core.display.HTML object>"
            ],
            "text/html": [
              "\n",
              "            <style>\n",
              "                .geemap-dark {\n",
              "                    --jp-widgets-color: white;\n",
              "                    --jp-widgets-label-color: white;\n",
              "                    --jp-ui-font-color1: white;\n",
              "                    --jp-layout-color2: #454545;\n",
              "                    background-color: #383838;\n",
              "                }\n",
              "\n",
              "                .geemap-dark .jupyter-button {\n",
              "                    --jp-layout-color3: #383838;\n",
              "                }\n",
              "\n",
              "                .geemap-colab {\n",
              "                    background-color: var(--colab-primary-surface-color, white);\n",
              "                }\n",
              "\n",
              "                .geemap-colab .jupyter-button {\n",
              "                    --jp-layout-color3: var(--colab-primary-surface-color, white);\n",
              "                }\n",
              "            </style>\n",
              "            "
            ]
          },
          "metadata": {}
        },
        {
          "output_type": "stream",
          "name": "stdout",
          "text": [
            "Capas de datos filtrados 2020: 3\n",
            "Imagen 2020 elegido: LC08_L2SP_030046_20200213_20200823_02_T1\n",
            "Capas de datos filtrados 2015: 5\n",
            "Imagen 2015 elegido: LC08_L2SP_030046_20140127_20200912_02_T1\n",
            "Capas de datos filtrados 2014: 1\n",
            "Imagen 2014 elegido: LC08_L2SP_030046_20140503_20200911_02_T1\n"
          ]
        }
      ]
    },
    {
      "cell_type": "markdown",
      "source": [
        "Lectura de datos Landsat 5"
      ],
      "metadata": {
        "id": "tS8QEUd-yKDD"
      }
    },
    {
      "cell_type": "code",
      "source": [
        "# filtrado de datos Landsat potencialemtne adecuados\n",
        "L5_collection_2011 = (ee.ImageCollection(\"LANDSAT/LT05/C02/T1_L2\")\n",
        "                      .filterBounds(punto_interes)\n",
        "                      .filterDate(fecha_inicio_2011, fecha_final_2011)\n",
        "                      .filter(ee.Filter.lessThan('CLOUD_COVER', 1)))\n",
        "print('Capas de datos filtrados 2011:', L5_collection_2011.size().getInfo())\n",
        "\n",
        "L5_image_2011 = L5_collection_2011.first()\n",
        "image_meta_2011 = L5_image_2011.getInfo()\n",
        "\n",
        "imagename_2011 = image_meta_2011.get('properties',{}).get('LANDSAT_PRODUCT_ID')\n",
        "print('Imagen 2011 elegido:', imagename_2011)\n",
        "\n",
        "# filtrado de datos Landsat potencialemtne adecuados\n",
        "L5_collection_2010 = (ee.ImageCollection(\"LANDSAT/LT05/C02/T1_L2\")\n",
        "                      .filterBounds(punto_interes)\n",
        "                      .filterDate(fecha_inicio_2010, fecha_final_2010)\n",
        "                      .filter(ee.Filter.lessThan('CLOUD_COVER', 1)))\n",
        "print('Capas de datos filtrados 2010:', L5_collection_2010.size().getInfo())\n",
        "\n",
        "L5_image_2010 = L5_collection_2010.first()\n",
        "image_meta_2010 = L5_image_2010.getInfo()\n",
        "\n",
        "imagename_2010 = image_meta_2010.get('properties',{}).get('LANDSAT_PRODUCT_ID')\n",
        "print('Imagen 2010 elegido:', imagename_2010)\n",
        "\n",
        "# filtrado de datos Landsat potencialemtne adecuados\n",
        "L5_collection_2000 = (ee.ImageCollection(\"LANDSAT/LT05/C02/T1_L2\")\n",
        "                      .filterBounds(punto_interes)\n",
        "                      .filterDate(fecha_inicio_2000, fecha_final_2000)\n",
        "                      .filter(ee.Filter.lessThan('CLOUD_COVER', 5)))\n",
        "print('Capas de datos filtrados 2000:', L5_collection_2000.size().getInfo())\n",
        "\n",
        "L5_image_2000 = L5_collection_2000.first()\n",
        "image_meta_2000 = L5_image_2000.getInfo()\n",
        "\n",
        "imagename_2000 = image_meta_2000.get('properties',{}).get('LANDSAT_PRODUCT_ID')\n",
        "print('Imagen 2000 elegido:', imagename_2000)"
      ],
      "metadata": {
        "id": "yylWt3TLyI-P",
        "outputId": "e1ceb1ec-763a-4379-b875-f708d2def3c7",
        "colab": {
          "base_uri": "https://localhost:8080/",
          "height": 121
        }
      },
      "execution_count": 23,
      "outputs": [
        {
          "output_type": "display_data",
          "data": {
            "text/plain": [
              "<IPython.core.display.HTML object>"
            ],
            "text/html": [
              "\n",
              "            <style>\n",
              "                .geemap-dark {\n",
              "                    --jp-widgets-color: white;\n",
              "                    --jp-widgets-label-color: white;\n",
              "                    --jp-ui-font-color1: white;\n",
              "                    --jp-layout-color2: #454545;\n",
              "                    background-color: #383838;\n",
              "                }\n",
              "\n",
              "                .geemap-dark .jupyter-button {\n",
              "                    --jp-layout-color3: #383838;\n",
              "                }\n",
              "\n",
              "                .geemap-colab {\n",
              "                    background-color: var(--colab-primary-surface-color, white);\n",
              "                }\n",
              "\n",
              "                .geemap-colab .jupyter-button {\n",
              "                    --jp-layout-color3: var(--colab-primary-surface-color, white);\n",
              "                }\n",
              "            </style>\n",
              "            "
            ]
          },
          "metadata": {}
        },
        {
          "output_type": "stream",
          "name": "stdout",
          "text": [
            "Capas de datos filtrados 2011: 1\n",
            "Imagen 2011 elegido: LT05_L2SP_030046_20110220_20200823_02_T1\n",
            "Capas de datos filtrados 2010: 1\n",
            "Imagen 2010 elegido: LT05_L2SP_030046_20110220_20200823_02_T1\n",
            "Capas de datos filtrados 2000: 2\n",
            "Imagen 2000 elegido: LT05_L2SP_030046_20000222_20200907_02_T1\n"
          ]
        }
      ]
    },
    {
      "cell_type": "markdown",
      "source": [
        "Cargar capas de datos de referencia"
      ],
      "metadata": {
        "id": "dD-Z7PH2OXZZ"
      }
    },
    {
      "cell_type": "code",
      "source": [
        "# Load builtup 2015 (res 100 m)\n",
        "ghs_built_image = ee.Image('JRC/GHSL/P2023A/GHS_BUILT_S/2015')\n",
        "built_2015_lr = ghs_built_image.select('built_surface')\n",
        "\n",
        "# Load builtup 2015 (res 10 m) y reclasificar a 0 y 1\n",
        "built_2015_hr = ee.Image('DLR/WSF/WSF2015/v1')\n",
        "built_2015_hr = built_2015_hr.where(built_2015_hr.eq(255), 1)\n",
        "\n",
        "# Load water mask (res 30)\n",
        "elev_dataset = ee.ImageCollection('COPERNICUS/DEM/GLO30').filterBounds(L8_image_2020.geometry())\n",
        "print('Segmentos WBM filtrados:', elev_dataset.size().getInfo())\n",
        "MDE_Copernicus_proj = elev_dataset.first().projection()\n",
        "water_mosaico = elev_dataset.select('WBM').mosaic()\n",
        "water_mosaico = water_mosaico.setDefaultProjection(MDE_Copernicus_proj)\n",
        "water_bin = water_mosaico.gt(0)\n",
        "\n",
        "# blackBackground = ee.Image(0);"
      ],
      "metadata": {
        "colab": {
          "base_uri": "https://localhost:8080/",
          "height": 34
        },
        "id": "LDOj4DPUN0Sd",
        "outputId": "e86efef8-1d1c-4937-9ae4-363db031e6df"
      },
      "execution_count": 24,
      "outputs": [
        {
          "output_type": "display_data",
          "data": {
            "text/plain": [
              "<IPython.core.display.HTML object>"
            ],
            "text/html": [
              "\n",
              "            <style>\n",
              "                .geemap-dark {\n",
              "                    --jp-widgets-color: white;\n",
              "                    --jp-widgets-label-color: white;\n",
              "                    --jp-ui-font-color1: white;\n",
              "                    --jp-layout-color2: #454545;\n",
              "                    background-color: #383838;\n",
              "                }\n",
              "\n",
              "                .geemap-dark .jupyter-button {\n",
              "                    --jp-layout-color3: #383838;\n",
              "                }\n",
              "\n",
              "                .geemap-colab {\n",
              "                    background-color: var(--colab-primary-surface-color, white);\n",
              "                }\n",
              "\n",
              "                .geemap-colab .jupyter-button {\n",
              "                    --jp-layout-color3: var(--colab-primary-surface-color, white);\n",
              "                }\n",
              "            </style>\n",
              "            "
            ]
          },
          "metadata": {}
        },
        {
          "output_type": "stream",
          "name": "stdout",
          "text": [
            "Segmentos WBM filtrados: 7\n"
          ]
        }
      ]
    },
    {
      "cell_type": "markdown",
      "source": [
        "Reproyección y homogenización de capas"
      ],
      "metadata": {
        "id": "1YVQ0wakR0Bm"
      }
    },
    {
      "cell_type": "code",
      "source": [
        "## Datos deben quedar convertidos a proyección identica a la de Landsat 8, con mismo tamaño y resolución.\n",
        "projection = L8_image_2015.projection().getInfo();\n",
        "print(projection)\n",
        "print(projection.get('crs'))\n",
        "\n",
        "## Reproject label layers to L8 projection\n",
        "built_2015_hr_reprojected = built_2015_hr.reproject(projection.get('crs'), projection.get('transform'))\n",
        "water_bin_reprojected = water_bin.reproject(projection.get('crs'), projection.get('transform'))\n",
        "\n",
        "## Combinación de capas de builtup y agua en una capa categorica de tres clases (0 - no-urbano, 1 - agua, 2 - urbano)\n",
        "built_2015_agua_hr_reprojected = built_2015_hr_reprojected.unmask(0)\n",
        "built_2015_agua_hr_reprojected = (built_2015_agua_hr_reprojected.where(built_2015_agua_hr_reprojected.eq(1), 2))\n",
        "built_2015_agua_hr_reprojected = (built_2015_agua_hr_reprojected.where(water_bin_reprojected.eq(1), 1))"
      ],
      "metadata": {
        "colab": {
          "base_uri": "https://localhost:8080/",
          "height": 52
        },
        "id": "Yk_TirDPRu3O",
        "outputId": "baf6a6cb-e738-49af-e692-7fee0e8377ac"
      },
      "execution_count": 25,
      "outputs": [
        {
          "output_type": "display_data",
          "data": {
            "text/plain": [
              "<IPython.core.display.HTML object>"
            ],
            "text/html": [
              "\n",
              "            <style>\n",
              "                .geemap-dark {\n",
              "                    --jp-widgets-color: white;\n",
              "                    --jp-widgets-label-color: white;\n",
              "                    --jp-ui-font-color1: white;\n",
              "                    --jp-layout-color2: #454545;\n",
              "                    background-color: #383838;\n",
              "                }\n",
              "\n",
              "                .geemap-dark .jupyter-button {\n",
              "                    --jp-layout-color3: #383838;\n",
              "                }\n",
              "\n",
              "                .geemap-colab {\n",
              "                    background-color: var(--colab-primary-surface-color, white);\n",
              "                }\n",
              "\n",
              "                .geemap-colab .jupyter-button {\n",
              "                    --jp-layout-color3: var(--colab-primary-surface-color, white);\n",
              "                }\n",
              "            </style>\n",
              "            "
            ]
          },
          "metadata": {}
        },
        {
          "output_type": "stream",
          "name": "stdout",
          "text": [
            "{'type': 'Projection', 'crs': 'EPSG:32613', 'transform': [30, 0, 385785, 0, -30, 2352915]}\n",
            "EPSG:32613\n"
          ]
        }
      ]
    },
    {
      "cell_type": "markdown",
      "source": [
        "Visualizar capas de datos (con uso de geemap).\n",
        "\n",
        "Nota: no siempre funciona de forma correcta"
      ],
      "metadata": {
        "id": "vdTwwatwHOGz"
      }
    },
    {
      "cell_type": "code",
      "source": [
        "Map = geemap.Map()\n",
        "# Center the map and display the image.\n",
        "Map.centerObject(punto_interes, 10)\n",
        "\n",
        "# Parametros de visualizacion para Landsat 8\n",
        "vizParams_L8 = {\n",
        "  'bands': ['SR_B5', 'SR_B4', 'SR_B3'],\n",
        "   'min': 5000,\n",
        "   'max': 15000\n",
        "  #'gamma': [0.95, 1.1, 1]\n",
        "}\n",
        "# Parametros de visualizacion para Builtup LR\n",
        "vizBuiltup_LR = {\n",
        "   'min': 0,\n",
        "   'max': 1,\n",
        "  'palette': ['white','black']\n",
        "}\n",
        "# Parametros de visualizacion para Builtup HR\n",
        "vizBuiltup_HR = {\n",
        "  min: 0,\n",
        "  max: 255,\n",
        "  'palette': ['white','black']\n",
        "}\n",
        "\n",
        "vizWater = {\n",
        "   'min': 0,\n",
        "   'max': 3,\n",
        "  'palette': ['white', 'blue', 'darkblue']\n",
        "}\n",
        "vizWaterBin = {\n",
        "   'min': 0,\n",
        "   'max': 1,\n",
        "  'palette': ['white', 'blue']\n",
        "}\n",
        "\n",
        "vizBuiltupAgua = {\n",
        "   'min': 0,\n",
        "   'max': 2,\n",
        "  'palette': ['white', 'blue', 'black']\n",
        "}\n",
        "# Agregar capas\n",
        "Map.addLayer(L8_image_2020, vizParams_L8, 'Composición de falso color 2020', False, 0.5)\n",
        "Map.addLayer(L8_image_2015, vizParams_L8, 'Composición de falso color 2015', True, 0.5)\n",
        "Map.addLayer(L8_image_2014, vizParams_L8, 'Composición de falso color 2014', False, 0.5)\n",
        "Map.addLayer(built_2015_lr, vizBuiltup_LR, 'Builtup 2015 100m', False, 0.5)\n",
        "Map.addLayer(built_2015_hr, vizBuiltup_HR, 'Builtup 2015 10m', False, 0.5)\n",
        "#Map.addLayer(water_mosaico, vizWater, 'Agua', False, 0.5)\n",
        "Map.addLayer(water_bin, vizWaterBin, 'Agua mask', False, 0.5)\n",
        "Map.addLayer(built_2015_agua_hr_reprojected, vizBuiltupAgua, 'Builtup 2015 y agua', True, 0.5)\n",
        "\n",
        "# Presentar mapa\n",
        "Map\n"
      ],
      "metadata": {
        "id": "vVrWdoqwHNaQ"
      },
      "execution_count": null,
      "outputs": []
    },
    {
      "cell_type": "markdown",
      "source": [
        "Definición de rectangula segmentado para canversión de GEE a numpy"
      ],
      "metadata": {
        "id": "os0lF_WSQevn"
      }
    },
    {
      "cell_type": "code",
      "source": [
        "def segmentation(limits, pixel_size, max_tile_size, proj):\n",
        "  alto = math.ceil((limits[3] - limits[2]) / pixel_size)\n",
        "  print('Alto del segmento (pixeles)', alto)\n",
        "  ancho = math.ceil(max_tile_size / alto)\n",
        "  print('Ancho del segmento (pixeles)', ancho)\n",
        "  incremento = ancho * pixel_size\n",
        "  print('Ancho del segmento (unidades de proyeccion)', incremento)\n",
        "  seq = list(np.arange(limits[0], limits[1], incremento))\n",
        "  print('Secuencia de marcas de longitud')\n",
        "  print(seq)\n",
        "  segments = []\n",
        "  for i in range(len(seq)-1):\n",
        "    #print(seq[i], seq[i+1])\n",
        "    segment = ee.Geometry.Rectangle([int(seq[i]), limites_utm[2], int(seq[i+1]), limites_utm[3]], proj, True, False)\n",
        "    #print(segment)\n",
        "    segments.append(segment)\n",
        "  return segments\n",
        "\n",
        "segment_list = segmentation(limites_utm, pixel, max_tile, utm13)\n",
        "\n",
        "Map1 = geemap.Map()\n",
        "bbox = ee.Geometry.Rectangle([limites_utm[0], limites_utm[2], limites_utm[1], limites_utm[3]], utm13, True, False)\n",
        "Map1.centerObject(punto_interes, 10)\n",
        "Map1.addLayer(bbox, {}, 'Area de estudio')\n",
        "Map1"
      ],
      "metadata": {
        "id": "Bs6ce3QmIKL0"
      },
      "execution_count": null,
      "outputs": []
    },
    {
      "cell_type": "markdown",
      "source": [
        "Funciones para conversión de datos en numpy array para el analisis"
      ],
      "metadata": {
        "id": "g7lwq60FPTye"
      }
    },
    {
      "cell_type": "code",
      "source": [
        "def tile_to_numpy(image, rectangle, bands):\n",
        "  ## extraccion de bandas en un region rectangular\n",
        "  image_tile = image.sampleRectangle(region=rectangle,defaultValue=0)\n",
        "  first_band = image_tile.get(bands[0])\n",
        "  band_array_np = np.array(first_band.getInfo())\n",
        "  band_array_np = np.expand_dims(band_array_np, 2)\n",
        "  for b in bands[1:]:\n",
        "    b_arr = image_tile.get(b)\n",
        "    b_arr_np = np.array(b_arr.getInfo())\n",
        "    b_arr_np = np.expand_dims(b_arr_np, 2)\n",
        "    #print(b_arr_np.shape)\n",
        "    #print(band_array_np.shape)\n",
        "    band_array_np = np.concatenate((band_array_np, b_arr_np), 2)\n",
        "  return band_array_np\n",
        "\n",
        "def merge_feature_array(image, segments, bands):\n",
        "  ## combinaccion de segmentos\n",
        "  array_feature = tile_to_numpy(image, segments[0], bands)\n",
        "  print(\"New feature array\", array_feature.shape)\n",
        "  for segment in segments[1:]:\n",
        "    feature_segment = tile_to_numpy(image, segment, bands)\n",
        "    print(\"Feature segment\", feature_segment.shape)\n",
        "    array_feature = np.concatenate((array_feature, feature_segment), 1)\n",
        "  print(\"Full new feature array\", array_feature.shape)\n",
        "  return array_feature\n"
      ],
      "metadata": {
        "id": "88919tIFoXXP",
        "outputId": "e6d94c8b-d72e-436b-c5ad-daf80d8c54fc",
        "colab": {
          "base_uri": "https://localhost:8080/",
          "height": 17
        }
      },
      "execution_count": 36,
      "outputs": [
        {
          "output_type": "display_data",
          "data": {
            "text/plain": [
              "<IPython.core.display.HTML object>"
            ],
            "text/html": [
              "\n",
              "            <style>\n",
              "                .geemap-dark {\n",
              "                    --jp-widgets-color: white;\n",
              "                    --jp-widgets-label-color: white;\n",
              "                    --jp-ui-font-color1: white;\n",
              "                    --jp-layout-color2: #454545;\n",
              "                    background-color: #383838;\n",
              "                }\n",
              "\n",
              "                .geemap-dark .jupyter-button {\n",
              "                    --jp-layout-color3: #383838;\n",
              "                }\n",
              "\n",
              "                .geemap-colab {\n",
              "                    background-color: var(--colab-primary-surface-color, white);\n",
              "                }\n",
              "\n",
              "                .geemap-colab .jupyter-button {\n",
              "                    --jp-layout-color3: var(--colab-primary-surface-color, white);\n",
              "                }\n",
              "            </style>\n",
              "            "
            ]
          },
          "metadata": {}
        }
      ]
    },
    {
      "cell_type": "markdown",
      "source": [
        "Preparar datos de entrenamiento en zona de estudio para el año 2015\n",
        "\n",
        "---\n",
        "\n"
      ],
      "metadata": {
        "id": "qCX-NlHKnwL9"
      }
    },
    {
      "cell_type": "code",
      "source": [
        "array_feature_2015 = merge_feature_array(L8_image_2015, segment_list, bands_L8)\n",
        "\n",
        "# Scale the data to [0, 255] to show as an RGB image.\n",
        "rgb_img_new = (255*((array_feature_2015 - 5000)/30000)).astype('uint8')\n",
        "plt.imshow(rgb_img_new[:,:,2:5])\n",
        "plt.show()"
      ],
      "metadata": {
        "id": "uJNEwoh_pCmq"
      },
      "execution_count": null,
      "outputs": []
    },
    {
      "cell_type": "markdown",
      "source": [
        "Preparar datos de imagen 2020 para predicción"
      ],
      "metadata": {
        "id": "9J7-LhqX8d4R"
      }
    },
    {
      "cell_type": "code",
      "source": [
        "array_feature_2020 = merge_feature_array(L8_image_2020, segment_list, bands_L8)\n",
        "\n",
        "# Scale the data to [0, 255] to show as an RGB image.\n",
        "rgb_img_new = (255*((array_feature_2020 - 5000)/30000)).astype('uint8')\n",
        "plt.imshow(rgb_img_new[:,:,2:5])\n",
        "plt.show()"
      ],
      "metadata": {
        "id": "xd58AEiG8pWb"
      },
      "execution_count": null,
      "outputs": []
    },
    {
      "cell_type": "markdown",
      "source": [
        "Preparar datos de imagen 2014 para predicción"
      ],
      "metadata": {
        "id": "BkwXQOn4n0u8"
      }
    },
    {
      "cell_type": "code",
      "source": [
        "array_feature_2014 = merge_feature_array(L8_image_2014, segment_list, bands_L8)\n",
        "\n",
        "# Scale the data to [0, 255] to show as an RGB image.\n",
        "rgb_img_new = (255*((array_feature_2014 - 5000)/30000)).astype('uint8')\n",
        "plt.imshow(rgb_img_new[:,:,2:5])\n",
        "plt.show()"
      ],
      "metadata": {
        "id": "7oPrJb8Fnw6v"
      },
      "execution_count": null,
      "outputs": []
    },
    {
      "cell_type": "markdown",
      "source": [
        "Preparar datos de imagen 2011 para predicción"
      ],
      "metadata": {
        "id": "8LWKLYYD3aPs"
      }
    },
    {
      "cell_type": "code",
      "source": [
        "array_feature_2011 = merge_feature_array(L5_image_2011, segment_list, bands_L5)\n",
        "\n",
        "# Scale the data to [0, 255] to show as an RGB image.\n",
        "rgb_img_new = (255*((array_feature_2011 - 5000)/30000)).astype('uint8')\n",
        "plt.imshow(rgb_img_new[:,:,2:5])\n",
        "plt.show()"
      ],
      "metadata": {
        "id": "tNB0Bgyp1-sT"
      },
      "execution_count": null,
      "outputs": []
    },
    {
      "cell_type": "markdown",
      "source": [
        "Preparar datos de imagen 2010 para predicción"
      ],
      "metadata": {
        "id": "RNWBsIe83eYU"
      }
    },
    {
      "cell_type": "code",
      "source": [
        "array_feature_2010 = merge_feature_array(L5_image_2010, segment_list, bands_L5)\n",
        "\n",
        "# Scale the data to [0, 255] to show as an RGB image.\n",
        "rgb_img_new = (255*((array_feature_2010 - 5000)/30000)).astype('uint8')\n",
        "plt.imshow(rgb_img_new[:,:,2:5])\n",
        "plt.show()"
      ],
      "metadata": {
        "id": "vhtHxOaJ3gbK"
      },
      "execution_count": null,
      "outputs": []
    },
    {
      "cell_type": "markdown",
      "source": [
        "Preparar datos 2000 para predicción"
      ],
      "metadata": {
        "id": "S3ldwYrC3mac"
      }
    },
    {
      "cell_type": "code",
      "source": [
        "array_feature_2000 = merge_feature_array(L5_image_2000, segment_list, bands_L5)\n",
        "\n",
        "# Scale the data to [0, 255] to show as an RGB image.\n",
        "rgb_img_new = (255*((array_feature_2000 - 5000)/30000)).astype('uint8')\n",
        "plt.imshow(rgb_img_new[:,:,2:5])\n",
        "plt.show()"
      ],
      "metadata": {
        "id": "3nFmYoI-3r5e"
      },
      "execution_count": null,
      "outputs": []
    },
    {
      "cell_type": "markdown",
      "source": [
        "Capas de etiquetas para entrenamiento de 3 clases y de 2 clases"
      ],
      "metadata": {
        "id": "n_ZDRuzxne14"
      }
    },
    {
      "cell_type": "code",
      "source": [
        "array_target_binary_2015 = merge_feature_array(built_2015_hr_reprojected, segment_list, bands_B)\n",
        "\n",
        "# Scale the data to [0, 255] to show as an RGB image.\n",
        "rgb_img_new = (array_target_binary_2015).astype('uint8')\n",
        "plt.imshow(rgb_img_new[:,:,0])\n",
        "plt.show()\n",
        "\n",
        "unique_values_bin, occurrence_count_bin = np.unique(array_target_binary_2015, return_counts=True)\n",
        "print('Valores únicos de clases', unique_values_bin)\n",
        "print('Conteo de pixeles de valores únicos', occurrence_count_bin)"
      ],
      "metadata": {
        "id": "XsNk8yZAopQy"
      },
      "execution_count": null,
      "outputs": []
    },
    {
      "cell_type": "code",
      "source": [
        "array_target_2015 = merge_feature_array(built_2015_agua_hr_reprojected, segment_list, bands_B)\n",
        "\n",
        "# Scale the data to [0, 255] to show as an RGB image.\n",
        "rgb_img_new = (array_target_2015).astype('uint8')\n",
        "plt.imshow(rgb_img_new[:,:,0])\n",
        "plt.show()\n",
        "\n",
        "unique_values, occurrence_count = np.unique(array_target_2015, return_counts=True)\n",
        "print('Valores únicos de clases', unique_values)\n",
        "print('Conteo de pixeles de valores únicos', occurrence_count)"
      ],
      "metadata": {
        "id": "g-klR13hwsif",
        "outputId": "270e159e-6e2a-4b45-c8e7-dfba4610f944",
        "colab": {
          "base_uri": "https://localhost:8080/",
          "height": 799
        }
      },
      "execution_count": 45,
      "outputs": [
        {
          "output_type": "display_data",
          "data": {
            "text/plain": [
              "<IPython.core.display.HTML object>"
            ],
            "text/html": [
              "\n",
              "            <style>\n",
              "                .geemap-dark {\n",
              "                    --jp-widgets-color: white;\n",
              "                    --jp-widgets-label-color: white;\n",
              "                    --jp-ui-font-color1: white;\n",
              "                    --jp-layout-color2: #454545;\n",
              "                    background-color: #383838;\n",
              "                }\n",
              "\n",
              "                .geemap-dark .jupyter-button {\n",
              "                    --jp-layout-color3: #383838;\n",
              "                }\n",
              "\n",
              "                .geemap-colab {\n",
              "                    background-color: var(--colab-primary-surface-color, white);\n",
              "                }\n",
              "\n",
              "                .geemap-colab .jupyter-button {\n",
              "                    --jp-layout-color3: var(--colab-primary-surface-color, white);\n",
              "                }\n",
              "            </style>\n",
              "            "
            ]
          },
          "metadata": {}
        },
        {
          "output_type": "stream",
          "name": "stdout",
          "text": [
            "New feature array (971, 53, 1)\n",
            "Feature segment (971, 53, 1)\n",
            "Feature segment (971, 53, 1)\n",
            "Feature segment (971, 53, 1)\n",
            "Feature segment (971, 53, 1)\n",
            "Feature segment (971, 53, 1)\n",
            "Feature segment (971, 53, 1)\n",
            "Feature segment (971, 53, 1)\n",
            "Feature segment (971, 53, 1)\n",
            "Feature segment (971, 53, 1)\n",
            "Feature segment (971, 53, 1)\n",
            "Feature segment (971, 53, 1)\n",
            "Feature segment (971, 53, 1)\n",
            "Feature segment (971, 53, 1)\n",
            "Feature segment (971, 53, 1)\n",
            "Feature segment (971, 53, 1)\n",
            "Feature segment (971, 53, 1)\n",
            "Feature segment (971, 53, 1)\n",
            "Full new feature array (971, 954, 1)\n"
          ]
        },
        {
          "output_type": "display_data",
          "data": {
            "text/plain": [
              "<Figure size 640x480 with 1 Axes>"
            ],
            "image/png": "[encoded data removed]"
          },
          "metadata": {}
        },
        {
          "output_type": "stream",
          "name": "stdout",
          "text": [
            "Valores únicos de clases [0 1 2]\n",
            "Conteo de pixeles de valores únicos [538340 308617  79377]\n"
          ]
        }
      ]
    },
    {
      "cell_type": "markdown",
      "source": [
        "Guardar los conjuntos de datos concatenados (numpy array)"
      ],
      "metadata": {
        "id": "TWku_3gB9y1V"
      }
    },
    {
      "cell_type": "code",
      "source": [
        "## Save the arrays as .npy files\n",
        "## Images L8\n",
        "np.save('/content/drive/MyDrive/Colab Data/PVR_2020_feature_L8_6b.npy', array_feature_2020)\n",
        "np.save('/content/drive/MyDrive/Colab Data/PVR_2015_feature_L8_6b.npy', array_feature_2015)\n",
        "np.save('/content/drive/MyDrive/Colab Data/PVR_2014_feature_L8_6b.npy', array_feature_2014)\n",
        "## Images L5\n",
        "np.save('/content/drive/MyDrive/Colab Data/PVR_2011_feature_L5_6b.npy', array_feature_2011)\n",
        "np.save('/content/drive/MyDrive/Colab Data/PVR_2010_feature_L5_6b.npy', array_feature_2010)\n",
        "np.save('/content/drive/MyDrive/Colab Data/PVR_2000_feature_L5_6b.npy', array_feature_2000)\n",
        "## Targets\n",
        "np.save('/content/drive/MyDrive/Colab Data/PVR_2015_target_2class.npy', array_target_binary_2015)\n",
        "np.save('/content/drive/MyDrive/Colab Data/PVR_2015_target_3class.npy', array_target_2015)"
      ],
      "metadata": {
        "colab": {
          "base_uri": "https://localhost:8080/",
          "height": 17
        },
        "id": "shSaPNcan5Q3",
        "outputId": "54f63e2a-5e2a-429f-ce94-e7776bdb55cf"
      },
      "execution_count": 46,
      "outputs": [
        {
          "output_type": "display_data",
          "data": {
            "text/plain": [
              "<IPython.core.display.HTML object>"
            ],
            "text/html": [
              "\n",
              "            <style>\n",
              "                .geemap-dark {\n",
              "                    --jp-widgets-color: white;\n",
              "                    --jp-widgets-label-color: white;\n",
              "                    --jp-ui-font-color1: white;\n",
              "                    --jp-layout-color2: #454545;\n",
              "                    background-color: #383838;\n",
              "                }\n",
              "\n",
              "                .geemap-dark .jupyter-button {\n",
              "                    --jp-layout-color3: #383838;\n",
              "                }\n",
              "\n",
              "                .geemap-colab {\n",
              "                    background-color: var(--colab-primary-surface-color, white);\n",
              "                }\n",
              "\n",
              "                .geemap-colab .jupyter-button {\n",
              "                    --jp-layout-color3: var(--colab-primary-surface-color, white);\n",
              "                }\n",
              "            </style>\n",
              "            "
            ]
          },
          "metadata": {}
        }
      ]
    }
  ]
}