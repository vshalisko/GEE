{
  "nbformat": 4,
  "nbformat_minor": 0,
  "metadata": {
    "colab": {
      "provenance": [],
      "authorship_tag": "ABX9TyPUrM7qYrPoQsQ06+RIXQfq",
      "include_colab_link": true
    },
    "kernelspec": {
      "name": "python3",
      "display_name": "Python 3"
    },
    "language_info": {
      "name": "python"
    },
    "widgets": {
      "application/vnd.jupyter.widget-state+json": {
        "8690bed7c7ae4ed3ad0a90c2937432d7": {
          "model_module": "jupyter-leaflet",
          "model_name": "LeafletMapModel",
          "model_module_version": "^0.18",
          "state": {
            "_dom_classes": [],
            "_model_module": "jupyter-leaflet",
            "_model_module_version": "^0.18",
            "_model_name": "LeafletMapModel",
            "_view_count": null,
            "_view_module": "jupyter-leaflet",
            "_view_module_version": "^0.18",
            "_view_name": "LeafletMapView",
            "bottom": 29399,
            "bounce_at_zoom_limits": true,
            "box_zoom": true,
            "center": [
              19.75,
              -103.76
            ],
            "close_popup_on_click": true,
            "controls": [
              "IPY_MODEL_497b812910434c2e841d6fb9aaabe31f",
              "IPY_MODEL_6497891d59404d8788cafc89b2092a2d",
              "IPY_MODEL_378be4a1c6304d6e9d61e7d48ac96eeb",
              "IPY_MODEL_7c8406c74c324adeabd5e4384d2c0c93",
              "IPY_MODEL_dc31e3c7d0a445eebeb6dbcd29969a88",
              "IPY_MODEL_986ca34302f4473991731bee91263bb8",
              "IPY_MODEL_b308bb5dc69841db927751febec0b91b",
              "IPY_MODEL_140521d39228465b893473f09724cb68"
            ],
            "crs": {
              "name": "EPSG3857",
              "custom": false
            },
            "default_style": "IPY_MODEL_da6faa6cd596479885d1fc77473b04a3",
            "double_click_zoom": true,
            "dragging": true,
            "dragging_style": "IPY_MODEL_fba489d0c60345b78585dd1ddc3b24b4",
            "east": -99.88769531250001,
            "fullscreen": false,
            "inertia": true,
            "inertia_deceleration": 3000,
            "inertia_max_speed": 1500,
            "interpolation": "bilinear",
            "keyboard": true,
            "keyboard_pan_offset": 80,
            "keyboard_zoom_offset": 1,
            "layers": [
              "IPY_MODEL_24e3b23b538c469895147725ec823fbf",
              "IPY_MODEL_07287ffc6960499e9f4661e360d2d76f",
              "IPY_MODEL_fd2961e72c9e4d4e95afd42f5bd0882f",
              "IPY_MODEL_ff019294f8674e2c85091e4d99fabd1b"
            ],
            "layout": "IPY_MODEL_152853625532412fa4bcb98b724a4720",
            "left": 13175,
            "max_zoom": 24,
            "min_zoom": null,
            "modisdate": "2024-04-21",
            "north": 21.294492569503646,
            "options": [
              "bounce_at_zoom_limits",
              "box_zoom",
              "center",
              "close_popup_on_click",
              "double_click_zoom",
              "dragging",
              "fullscreen",
              "inertia",
              "inertia_deceleration",
              "inertia_max_speed",
              "interpolation",
              "keyboard",
              "keyboard_pan_offset",
              "keyboard_zoom_offset",
              "max_zoom",
              "min_zoom",
              "prefer_canvas",
              "scroll_wheel_zoom",
              "tap",
              "tap_tolerance",
              "touch_zoom",
              "world_copy_jump",
              "zoom",
              "zoom_animation_threshold",
              "zoom_delta",
              "zoom_snap"
            ],
            "panes": {},
            "prefer_canvas": false,
            "right": 14584,
            "scroll_wheel_zoom": true,
            "south": 18.19282519773319,
            "style": "IPY_MODEL_299a9599aeb44628a5433120cd0c2bd1",
            "tap": true,
            "tap_tolerance": 15,
            "top": 28799,
            "touch_zoom": true,
            "west": -107.6275634765625,
            "window_url": "https://xhkhvb1ftr-496ff2e9c6d22116-0-colab.googleusercontent.com/outputframe.html?vrz=colab_20240418-060126_RC00_625982099",
            "world_copy_jump": false,
            "zoom": 8,
            "zoom_animation_threshold": 4,
            "zoom_delta": 1,
            "zoom_snap": 1
          }
        },
        "497b812910434c2e841d6fb9aaabe31f": {
          "model_module": "jupyter-leaflet",
          "model_name": "LeafletWidgetControlModel",
          "model_module_version": "^0.18",
          "state": {
            "_model_module": "jupyter-leaflet",
            "_model_module_version": "^0.18",
            "_model_name": "LeafletWidgetControlModel",
            "_view_count": null,
            "_view_module": "jupyter-leaflet",
            "_view_module_version": "^0.18",
            "_view_name": "LeafletWidgetControlView",
            "max_height": null,
            "max_width": null,
            "min_height": null,
            "min_width": null,
            "options": [
              "position",
              "transparent_bg"
            ],
            "position": "topleft",
            "transparent_bg": false,
            "widget": "IPY_MODEL_2f2902df4c774f4d91f1323529505876"
          }
        },
        "6497891d59404d8788cafc89b2092a2d": {
          "model_module": "jupyter-leaflet",
          "model_name": "LeafletZoomControlModel",
          "model_module_version": "^0.18",
          "state": {
            "_model_module": "jupyter-leaflet",
            "_model_module_version": "^0.18",
            "_model_name": "LeafletZoomControlModel",
            "_view_count": null,
            "_view_module": "jupyter-leaflet",
            "_view_module_version": "^0.18",
            "_view_name": "LeafletZoomControlView",
            "options": [
              "position",
              "zoom_in_text",
              "zoom_in_title",
              "zoom_out_text",
              "zoom_out_title"
            ],
            "position": "topleft",
            "zoom_in_text": "+",
            "zoom_in_title": "Zoom in",
            "zoom_out_text": "-",
            "zoom_out_title": "Zoom out"
          }
        },
        "378be4a1c6304d6e9d61e7d48ac96eeb": {
          "model_module": "jupyter-leaflet",
          "model_name": "LeafletFullScreenControlModel",
          "model_module_version": "^0.18",
          "state": {
            "_model_module": "jupyter-leaflet",
            "_model_module_version": "^0.18",
            "_model_name": "LeafletFullScreenControlModel",
            "_view_count": null,
            "_view_module": "jupyter-leaflet",
            "_view_module_version": "^0.18",
            "_view_name": "LeafletFullScreenControlView",
            "options": [
              "position"
            ],
            "position": "topleft"
          }
        },
        "7c8406c74c324adeabd5e4384d2c0c93": {
          "model_module": "jupyter-leaflet",
          "model_name": "LeafletDrawControlModel",
          "model_module_version": "^0.18",
          "state": {
            "_model_module": "jupyter-leaflet",
            "_model_module_version": "^0.18",
            "_model_name": "LeafletDrawControlModel",
            "_view_count": null,
            "_view_module": "jupyter-leaflet",
            "_view_module_version": "^0.18",
            "_view_name": "LeafletDrawControlView",
            "circle": {},
            "circlemarker": {},
            "data": [],
            "edit": true,
            "marker": {
              "shapeOptions": {
                "color": "#3388ff"
              }
            },
            "options": [
              "position"
            ],
            "polygon": {
              "shapeOptions": {}
            },
            "polyline": {
              "shapeOptions": {}
            },
            "position": "topleft",
            "rectangle": {
              "shapeOptions": {
                "color": "#3388ff"
              }
            },
            "remove": true
          }
        },
        "dc31e3c7d0a445eebeb6dbcd29969a88": {
          "model_module": "jupyter-leaflet",
          "model_name": "LeafletScaleControlModel",
          "model_module_version": "^0.18",
          "state": {
            "_model_module": "jupyter-leaflet",
            "_model_module_version": "^0.18",
            "_model_name": "LeafletScaleControlModel",
            "_view_count": null,
            "_view_module": "jupyter-leaflet",
            "_view_module_version": "^0.18",
            "_view_name": "LeafletScaleControlView",
            "imperial": true,
            "max_width": 100,
            "metric": true,
            "options": [
              "imperial",
              "max_width",
              "metric",
              "position",
              "update_when_idle"
            ],
            "position": "bottomleft",
            "update_when_idle": false
          }
        },
        "986ca34302f4473991731bee91263bb8": {
          "model_module": "jupyter-leaflet",
          "model_name": "LeafletMeasureControlModel",
          "model_module_version": "^0.18",
          "state": {
            "_custom_units": {},
            "_model_module": "jupyter-leaflet",
            "_model_module_version": "^0.18",
            "_model_name": "LeafletMeasureControlModel",
            "_view_count": null,
            "_view_module": "jupyter-leaflet",
            "_view_module_version": "^0.18",
            "_view_name": "LeafletMeasureControlView",
            "active_color": "orange",
            "capture_z_index": 10000,
            "completed_color": "#C8F2BE",
            "options": [
              "active_color",
              "capture_z_index",
              "completed_color",
              "popup_options",
              "position",
              "primary_area_unit",
              "primary_length_unit",
              "secondary_area_unit",
              "secondary_length_unit"
            ],
            "popup_options": {
              "className": "leaflet-measure-resultpopup",
              "autoPanPadding": [
                10,
                10
              ]
            },
            "position": "bottomleft",
            "primary_area_unit": "acres",
            "primary_length_unit": "kilometers",
            "secondary_area_unit": null,
            "secondary_length_unit": null
          }
        },
        "b308bb5dc69841db927751febec0b91b": {
          "model_module": "jupyter-leaflet",
          "model_name": "LeafletWidgetControlModel",
          "model_module_version": "^0.18",
          "state": {
            "_model_module": "jupyter-leaflet",
            "_model_module_version": "^0.18",
            "_model_name": "LeafletWidgetControlModel",
            "_view_count": null,
            "_view_module": "jupyter-leaflet",
            "_view_module_version": "^0.18",
            "_view_name": "LeafletWidgetControlView",
            "max_height": null,
            "max_width": null,
            "min_height": null,
            "min_width": null,
            "options": [
              "position",
              "transparent_bg"
            ],
            "position": "topright",
            "transparent_bg": false,
            "widget": "IPY_MODEL_e609eab16c004afa84a967a69c27ad5a"
          }
        },
        "140521d39228465b893473f09724cb68": {
          "model_module": "jupyter-leaflet",
          "model_name": "LeafletAttributionControlModel",
          "model_module_version": "^0.18",
          "state": {
            "_model_module": "jupyter-leaflet",
            "_model_module_version": "^0.18",
            "_model_name": "LeafletAttributionControlModel",
            "_view_count": null,
            "_view_module": "jupyter-leaflet",
            "_view_module_version": "^0.18",
            "_view_name": "LeafletAttributionControlView",
            "options": [
              "position",
              "prefix"
            ],
            "position": "bottomright",
            "prefix": "ipyleaflet"
          }
        },
        "da6faa6cd596479885d1fc77473b04a3": {
          "model_module": "jupyter-leaflet",
          "model_name": "LeafletMapStyleModel",
          "model_module_version": "^0.18",
          "state": {
            "_model_module": "jupyter-leaflet",
            "_model_module_version": "^0.18",
            "_model_name": "LeafletMapStyleModel",
            "_view_count": null,
            "_view_module": "@jupyter-widgets/base",
            "_view_module_version": "1.2.0",
            "_view_name": "StyleView",
            "cursor": "grab"
          }
        },
        "fba489d0c60345b78585dd1ddc3b24b4": {
          "model_module": "jupyter-leaflet",
          "model_name": "LeafletMapStyleModel",
          "model_module_version": "^0.18",
          "state": {
            "_model_module": "jupyter-leaflet",
            "_model_module_version": "^0.18",
            "_model_name": "LeafletMapStyleModel",
            "_view_count": null,
            "_view_module": "@jupyter-widgets/base",
            "_view_module_version": "1.2.0",
            "_view_name": "StyleView",
            "cursor": "move"
          }
        },
        "24e3b23b538c469895147725ec823fbf": {
          "model_module": "jupyter-leaflet",
          "model_name": "LeafletTileLayerModel",
          "model_module_version": "^0.18",
          "state": {
            "_model_module": "jupyter-leaflet",
            "_model_module_version": "^0.18",
            "_model_name": "LeafletTileLayerModel",
            "_view_count": null,
            "_view_module": "jupyter-leaflet",
            "_view_module_version": "^0.18",
            "_view_name": "LeafletTileLayerView",
            "attribution": "&copy; <a href=\"https://www.openstreetmap.org/copyright\">OpenStreetMap</a> contributors",
            "base": true,
            "bottom": true,
            "bounds": null,
            "detect_retina": false,
            "loading": false,
            "max_native_zoom": null,
            "max_zoom": 19,
            "min_native_zoom": null,
            "min_zoom": 1,
            "name": "OpenStreetMap.Mapnik",
            "no_wrap": false,
            "opacity": 1,
            "options": [
              "attribution",
              "bounds",
              "detect_retina",
              "max_native_zoom",
              "max_zoom",
              "min_native_zoom",
              "min_zoom",
              "no_wrap",
              "tile_size",
              "tms",
              "zoom_offset"
            ],
            "pane": "",
            "popup": null,
            "popup_max_height": null,
            "popup_max_width": 300,
            "popup_min_width": 50,
            "show_loading": false,
            "subitems": [],
            "tile_size": 256,
            "tms": false,
            "url": "https://tile.openstreetmap.org/{z}/{x}/{y}.png",
            "visible": true,
            "zoom_offset": 0
          }
        },
        "07287ffc6960499e9f4661e360d2d76f": {
          "model_module": "jupyter-leaflet",
          "model_name": "LeafletTileLayerModel",
          "model_module_version": "^0.18",
          "state": {
            "_model_module": "jupyter-leaflet",
            "_model_module_version": "^0.18",
            "_model_name": "LeafletTileLayerModel",
            "_view_count": null,
            "_view_module": "jupyter-leaflet",
            "_view_module_version": "^0.18",
            "_view_name": "LeafletTileLayerView",
            "attribution": "Google Earth Engine",
            "base": false,
            "bottom": true,
            "bounds": null,
            "detect_retina": false,
            "loading": false,
            "max_native_zoom": null,
            "max_zoom": 24,
            "min_native_zoom": null,
            "min_zoom": 0,
            "name": "Composición de falso color",
            "no_wrap": false,
            "opacity": 0.5,
            "options": [
              "attribution",
              "bounds",
              "detect_retina",
              "max_native_zoom",
              "max_zoom",
              "min_native_zoom",
              "min_zoom",
              "no_wrap",
              "tile_size",
              "tms",
              "zoom_offset"
            ],
            "pane": "",
            "popup": null,
            "popup_max_height": null,
            "popup_max_width": 300,
            "popup_min_width": 50,
            "show_loading": false,
            "subitems": [],
            "tile_size": 256,
            "tms": false,
            "url": "https://earthengine.googleapis.com/v1/projects/ee-viacheslavs/maps/a219196ed9ba5f766ce7ba9df267bcea-1d3d59baa82b8039e6a49e14f07b162d/tiles/{z}/{x}/{y}",
            "visible": true,
            "zoom_offset": 0
          }
        },
        "fd2961e72c9e4d4e95afd42f5bd0882f": {
          "model_module": "jupyter-leaflet",
          "model_name": "LeafletTileLayerModel",
          "model_module_version": "^0.18",
          "state": {
            "_model_module": "jupyter-leaflet",
            "_model_module_version": "^0.18",
            "_model_name": "LeafletTileLayerModel",
            "_view_count": null,
            "_view_module": "jupyter-leaflet",
            "_view_module_version": "^0.18",
            "_view_name": "LeafletTileLayerView",
            "attribution": "Google Earth Engine",
            "base": false,
            "bottom": true,
            "bounds": null,
            "detect_retina": false,
            "loading": false,
            "max_native_zoom": null,
            "max_zoom": 24,
            "min_native_zoom": null,
            "min_zoom": 0,
            "name": "Builtup 2015 100m",
            "no_wrap": false,
            "opacity": 0.5,
            "options": [
              "attribution",
              "bounds",
              "detect_retina",
              "max_native_zoom",
              "max_zoom",
              "min_native_zoom",
              "min_zoom",
              "no_wrap",
              "tile_size",
              "tms",
              "zoom_offset"
            ],
            "pane": "",
            "popup": null,
            "popup_max_height": null,
            "popup_max_width": 300,
            "popup_min_width": 50,
            "show_loading": false,
            "subitems": [],
            "tile_size": 256,
            "tms": false,
            "url": "https://earthengine.googleapis.com/v1/projects/ee-viacheslavs/maps/836ee1af32833419f823efeeb41e2605-b71a058c4b054e1059d77df025645629/tiles/{z}/{x}/{y}",
            "visible": true,
            "zoom_offset": 0
          }
        },
        "ff019294f8674e2c85091e4d99fabd1b": {
          "model_module": "jupyter-leaflet",
          "model_name": "LeafletTileLayerModel",
          "model_module_version": "^0.18",
          "state": {
            "_model_module": "jupyter-leaflet",
            "_model_module_version": "^0.18",
            "_model_name": "LeafletTileLayerModel",
            "_view_count": null,
            "_view_module": "jupyter-leaflet",
            "_view_module_version": "^0.18",
            "_view_name": "LeafletTileLayerView",
            "attribution": "Google Earth Engine",
            "base": false,
            "bottom": true,
            "bounds": null,
            "detect_retina": false,
            "loading": false,
            "max_native_zoom": null,
            "max_zoom": 24,
            "min_native_zoom": null,
            "min_zoom": 0,
            "name": "Builtup 2015 10m",
            "no_wrap": false,
            "opacity": 0.5,
            "options": [
              "attribution",
              "bounds",
              "detect_retina",
              "max_native_zoom",
              "max_zoom",
              "min_native_zoom",
              "min_zoom",
              "no_wrap",
              "tile_size",
              "tms",
              "zoom_offset"
            ],
            "pane": "",
            "popup": null,
            "popup_max_height": null,
            "popup_max_width": 300,
            "popup_min_width": 50,
            "show_loading": false,
            "subitems": [],
            "tile_size": 256,
            "tms": false,
            "url": "https://earthengine.googleapis.com/v1/projects/ee-viacheslavs/maps/82b6ccd2bab9ec7426a8341f40752ed7-24212f181345ef738329e4d7a4e2081d/tiles/{z}/{x}/{y}",
            "visible": true,
            "zoom_offset": 0
          }
        },
        "152853625532412fa4bcb98b724a4720": {
          "model_module": "@jupyter-widgets/base",
          "model_name": "LayoutModel",
          "model_module_version": "1.2.0",
          "state": {
            "_model_module": "@jupyter-widgets/base",
            "_model_module_version": "1.2.0",
            "_model_name": "LayoutModel",
            "_view_count": null,
            "_view_module": "@jupyter-widgets/base",
            "_view_module_version": "1.2.0",
            "_view_name": "LayoutView",
            "align_content": null,
            "align_items": null,
            "align_self": null,
            "border": null,
            "bottom": null,
            "display": null,
            "flex": null,
            "flex_flow": null,
            "grid_area": null,
            "grid_auto_columns": null,
            "grid_auto_flow": null,
            "grid_auto_rows": null,
            "grid_column": null,
            "grid_gap": null,
            "grid_row": null,
            "grid_template_areas": null,
            "grid_template_columns": null,
            "grid_template_rows": null,
            "height": "600px",
            "justify_content": null,
            "justify_items": null,
            "left": null,
            "margin": null,
            "max_height": null,
            "max_width": null,
            "min_height": null,
            "min_width": null,
            "object_fit": null,
            "object_position": null,
            "order": null,
            "overflow": null,
            "overflow_x": null,
            "overflow_y": null,
            "padding": null,
            "right": null,
            "top": null,
            "visibility": null,
            "width": null
          }
        },
        "299a9599aeb44628a5433120cd0c2bd1": {
          "model_module": "jupyter-leaflet",
          "model_name": "LeafletMapStyleModel",
          "model_module_version": "^0.18",
          "state": {
            "_model_module": "jupyter-leaflet",
            "_model_module_version": "^0.18",
            "_model_name": "LeafletMapStyleModel",
            "_view_count": null,
            "_view_module": "@jupyter-widgets/base",
            "_view_module_version": "1.2.0",
            "_view_name": "StyleView",
            "cursor": "grab"
          }
        },
        "2f2902df4c774f4d91f1323529505876": {
          "model_module": "@jupyter-widgets/controls",
          "model_name": "HBoxModel",
          "model_module_version": "1.5.0",
          "state": {
            "_dom_classes": [
              "geemap-colab"
            ],
            "_model_module": "@jupyter-widgets/controls",
            "_model_module_version": "1.5.0",
            "_model_name": "HBoxModel",
            "_view_count": null,
            "_view_module": "@jupyter-widgets/controls",
            "_view_module_version": "1.5.0",
            "_view_name": "HBoxView",
            "box_style": "",
            "children": [
              "IPY_MODEL_3e992f93f00b41cd8bc36a6ae8da5ea4"
            ],
            "layout": "IPY_MODEL_096edebe6de34353be70655df6fa5e36"
          }
        },
        "e609eab16c004afa84a967a69c27ad5a": {
          "model_module": "@jupyter-widgets/controls",
          "model_name": "VBoxModel",
          "model_module_version": "1.5.0",
          "state": {
            "_dom_classes": [
              "geemap-colab"
            ],
            "_model_module": "@jupyter-widgets/controls",
            "_model_module_version": "1.5.0",
            "_model_name": "VBoxModel",
            "_view_count": null,
            "_view_module": "@jupyter-widgets/controls",
            "_view_module_version": "1.5.0",
            "_view_name": "VBoxView",
            "box_style": "",
            "children": [
              "IPY_MODEL_52e950eb15bf4ed79b91126e9b8cb609"
            ],
            "layout": "IPY_MODEL_dc88c5d7064b4109882087efa35a0300"
          }
        },
        "3e992f93f00b41cd8bc36a6ae8da5ea4": {
          "model_module": "@jupyter-widgets/controls",
          "model_name": "ToggleButtonModel",
          "model_module_version": "1.5.0",
          "state": {
            "_dom_classes": [],
            "_model_module": "@jupyter-widgets/controls",
            "_model_module_version": "1.5.0",
            "_model_name": "ToggleButtonModel",
            "_view_count": null,
            "_view_module": "@jupyter-widgets/controls",
            "_view_module_version": "1.5.0",
            "_view_name": "ToggleButtonView",
            "button_style": "",
            "description": "",
            "description_tooltip": null,
            "disabled": false,
            "icon": "globe",
            "layout": "IPY_MODEL_a67a7cce5f5f4f2180e00e6586b61a74",
            "style": "IPY_MODEL_3b934be5412543758d7075540d2b5c07",
            "tooltip": "Search location/data",
            "value": false
          }
        },
        "096edebe6de34353be70655df6fa5e36": {
          "model_module": "@jupyter-widgets/base",
          "model_name": "LayoutModel",
          "model_module_version": "1.2.0",
          "state": {
            "_model_module": "@jupyter-widgets/base",
            "_model_module_version": "1.2.0",
            "_model_name": "LayoutModel",
            "_view_count": null,
            "_view_module": "@jupyter-widgets/base",
            "_view_module_version": "1.2.0",
            "_view_name": "LayoutView",
            "align_content": null,
            "align_items": null,
            "align_self": null,
            "border": null,
            "bottom": null,
            "display": null,
            "flex": null,
            "flex_flow": null,
            "grid_area": null,
            "grid_auto_columns": null,
            "grid_auto_flow": null,
            "grid_auto_rows": null,
            "grid_column": null,
            "grid_gap": null,
            "grid_row": null,
            "grid_template_areas": null,
            "grid_template_columns": null,
            "grid_template_rows": null,
            "height": null,
            "justify_content": null,
            "justify_items": null,
            "left": null,
            "margin": null,
            "max_height": null,
            "max_width": null,
            "min_height": null,
            "min_width": null,
            "object_fit": null,
            "object_position": null,
            "order": null,
            "overflow": null,
            "overflow_x": null,
            "overflow_y": null,
            "padding": null,
            "right": null,
            "top": null,
            "visibility": null,
            "width": null
          }
        },
        "52e950eb15bf4ed79b91126e9b8cb609": {
          "model_module": "@jupyter-widgets/controls",
          "model_name": "ToggleButtonModel",
          "model_module_version": "1.5.0",
          "state": {
            "_dom_classes": [],
            "_model_module": "@jupyter-widgets/controls",
            "_model_module_version": "1.5.0",
            "_model_name": "ToggleButtonModel",
            "_view_count": null,
            "_view_module": "@jupyter-widgets/controls",
            "_view_module_version": "1.5.0",
            "_view_name": "ToggleButtonView",
            "button_style": "",
            "description": "",
            "description_tooltip": null,
            "disabled": false,
            "icon": "wrench",
            "layout": "IPY_MODEL_b01ce75c4032482e9bff585ef77a833c",
            "style": "IPY_MODEL_eb650f5fb0ce4c1285843ef05ceaf762",
            "tooltip": "Toolbar",
            "value": false
          }
        },
        "dc88c5d7064b4109882087efa35a0300": {
          "model_module": "@jupyter-widgets/base",
          "model_name": "LayoutModel",
          "model_module_version": "1.2.0",
          "state": {
            "_model_module": "@jupyter-widgets/base",
            "_model_module_version": "1.2.0",
            "_model_name": "LayoutModel",
            "_view_count": null,
            "_view_module": "@jupyter-widgets/base",
            "_view_module_version": "1.2.0",
            "_view_name": "LayoutView",
            "align_content": null,
            "align_items": null,
            "align_self": null,
            "border": null,
            "bottom": null,
            "display": null,
            "flex": null,
            "flex_flow": null,
            "grid_area": null,
            "grid_auto_columns": null,
            "grid_auto_flow": null,
            "grid_auto_rows": null,
            "grid_column": null,
            "grid_gap": null,
            "grid_row": null,
            "grid_template_areas": null,
            "grid_template_columns": null,
            "grid_template_rows": null,
            "height": null,
            "justify_content": null,
            "justify_items": null,
            "left": null,
            "margin": null,
            "max_height": null,
            "max_width": null,
            "min_height": null,
            "min_width": null,
            "object_fit": null,
            "object_position": null,
            "order": null,
            "overflow": null,
            "overflow_x": null,
            "overflow_y": null,
            "padding": null,
            "right": null,
            "top": null,
            "visibility": null,
            "width": null
          }
        },
        "a67a7cce5f5f4f2180e00e6586b61a74": {
          "model_module": "@jupyter-widgets/base",
          "model_name": "LayoutModel",
          "model_module_version": "1.2.0",
          "state": {
            "_model_module": "@jupyter-widgets/base",
            "_model_module_version": "1.2.0",
            "_model_name": "LayoutModel",
            "_view_count": null,
            "_view_module": "@jupyter-widgets/base",
            "_view_module_version": "1.2.0",
            "_view_name": "LayoutView",
            "align_content": null,
            "align_items": null,
            "align_self": null,
            "border": null,
            "bottom": null,
            "display": null,
            "flex": null,
            "flex_flow": null,
            "grid_area": null,
            "grid_auto_columns": null,
            "grid_auto_flow": null,
            "grid_auto_rows": null,
            "grid_column": null,
            "grid_gap": null,
            "grid_row": null,
            "grid_template_areas": null,
            "grid_template_columns": null,
            "grid_template_rows": null,
            "height": "28px",
            "justify_content": null,
            "justify_items": null,
            "left": null,
            "margin": null,
            "max_height": null,
            "max_width": null,
            "min_height": null,
            "min_width": null,
            "object_fit": null,
            "object_position": null,
            "order": null,
            "overflow": null,
            "overflow_x": null,
            "overflow_y": null,
            "padding": "0px 0px 0px 4px",
            "right": null,
            "top": null,
            "visibility": null,
            "width": "28px"
          }
        },
        "3b934be5412543758d7075540d2b5c07": {
          "model_module": "@jupyter-widgets/controls",
          "model_name": "DescriptionStyleModel",
          "model_module_version": "1.5.0",
          "state": {
            "_model_module": "@jupyter-widgets/controls",
            "_model_module_version": "1.5.0",
            "_model_name": "DescriptionStyleModel",
            "_view_count": null,
            "_view_module": "@jupyter-widgets/base",
            "_view_module_version": "1.2.0",
            "_view_name": "StyleView",
            "description_width": ""
          }
        },
        "b01ce75c4032482e9bff585ef77a833c": {
          "model_module": "@jupyter-widgets/base",
          "model_name": "LayoutModel",
          "model_module_version": "1.2.0",
          "state": {
            "_model_module": "@jupyter-widgets/base",
            "_model_module_version": "1.2.0",
            "_model_name": "LayoutModel",
            "_view_count": null,
            "_view_module": "@jupyter-widgets/base",
            "_view_module_version": "1.2.0",
            "_view_name": "LayoutView",
            "align_content": null,
            "align_items": null,
            "align_self": null,
            "border": null,
            "bottom": null,
            "display": null,
            "flex": null,
            "flex_flow": null,
            "grid_area": null,
            "grid_auto_columns": null,
            "grid_auto_flow": null,
            "grid_auto_rows": null,
            "grid_column": null,
            "grid_gap": null,
            "grid_row": null,
            "grid_template_areas": null,
            "grid_template_columns": null,
            "grid_template_rows": null,
            "height": "28px",
            "justify_content": null,
            "justify_items": null,
            "left": null,
            "margin": null,
            "max_height": null,
            "max_width": null,
            "min_height": null,
            "min_width": null,
            "object_fit": null,
            "object_position": null,
            "order": null,
            "overflow": null,
            "overflow_x": null,
            "overflow_y": null,
            "padding": "0px 0px 0px 4px",
            "right": null,
            "top": null,
            "visibility": null,
            "width": "28px"
          }
        },
        "eb650f5fb0ce4c1285843ef05ceaf762": {
          "model_module": "@jupyter-widgets/controls",
          "model_name": "DescriptionStyleModel",
          "model_module_version": "1.5.0",
          "state": {
            "_model_module": "@jupyter-widgets/controls",
            "_model_module_version": "1.5.0",
            "_model_name": "DescriptionStyleModel",
            "_view_count": null,
            "_view_module": "@jupyter-widgets/base",
            "_view_module_version": "1.2.0",
            "_view_name": "StyleView",
            "description_width": ""
          }
        }
      }
    }
  },
  "cells": [
    {
      "cell_type": "markdown",
      "metadata": {
        "id": "view-in-github",
        "colab_type": "text"
      },
      "source": [
        "<a href=\"https://colab.research.google.com/github/vshalisko/GEE/blob/main/Colab/Landsat_ANN_test.ipynb\" target=\"_parent\"><img src=\"https://colab.research.google.com/assets/colab-badge.svg\" alt=\"Open In Colab\"/></a>"
      ]
    },
    {
      "cell_type": "code",
      "source": [
        "!pip install pyrsgis"
      ],
      "metadata": {
        "colab": {
          "base_uri": "https://localhost:8080/"
        },
        "id": "si1NSWosme01",
        "outputId": "d8695263-80c4-4e8f-a505-0f6b1fb50766"
      },
      "execution_count": 1,
      "outputs": [
        {
          "output_type": "stream",
          "name": "stdout",
          "text": [
            "Collecting pyrsgis\n",
            "  Downloading pyrsgis-0.4.1-py3-none-any.whl (25 kB)\n",
            "Installing collected packages: pyrsgis\n",
            "Successfully installed pyrsgis-0.4.1\n"
          ]
        }
      ]
    },
    {
      "cell_type": "code",
      "execution_count": 25,
      "metadata": {
        "id": "i7KszOl_ewUc",
        "colab": {
          "base_uri": "https://localhost:8080/",
          "height": 17
        },
        "outputId": "c92eea48-3a82-4108-de68-da907e398482"
      },
      "outputs": [
        {
          "output_type": "display_data",
          "data": {
            "text/plain": [
              "<IPython.core.display.HTML object>"
            ],
            "text/html": [
              "\n",
              "            <style>\n",
              "                .geemap-dark {\n",
              "                    --jp-widgets-color: white;\n",
              "                    --jp-widgets-label-color: white;\n",
              "                    --jp-ui-font-color1: white;\n",
              "                    --jp-layout-color2: #454545;\n",
              "                    background-color: #383838;\n",
              "                }\n",
              "\n",
              "                .geemap-dark .jupyter-button {\n",
              "                    --jp-layout-color3: #383838;\n",
              "                }\n",
              "\n",
              "                .geemap-colab {\n",
              "                    background-color: var(--colab-primary-surface-color, white);\n",
              "                }\n",
              "\n",
              "                .geemap-colab .jupyter-button {\n",
              "                    --jp-layout-color3: var(--colab-primary-surface-color, white);\n",
              "                }\n",
              "            </style>\n",
              "            "
            ]
          },
          "metadata": {}
        }
      ],
      "source": [
        "import ee\n",
        "import geemap\n",
        "from google.colab import drive\n",
        "import math, random, glob, time\n",
        "random.seed(2)\n",
        "import numpy as np\n",
        "from pyrsgis import raster, convert"
      ]
    },
    {
      "cell_type": "markdown",
      "source": [
        "Uso de ANN para clasificacion de Landsat"
      ],
      "metadata": {
        "id": "zqJE7_oDexQr"
      }
    },
    {
      "cell_type": "code",
      "source": [
        "# Trigger the authentication flow.\n",
        "ee.Authenticate()\n",
        "\n",
        "# Initialize the library.\n",
        "ee.Initialize(project='ee-viacheslavs')"
      ],
      "metadata": {
        "id": "iWoCyfWIe98n",
        "colab": {
          "base_uri": "https://localhost:8080/",
          "height": 17
        },
        "outputId": "574f5072-75ec-485b-9b5f-d808943caf43"
      },
      "execution_count": 4,
      "outputs": [
        {
          "output_type": "display_data",
          "data": {
            "text/plain": [
              "<IPython.core.display.HTML object>"
            ],
            "text/html": [
              "\n",
              "            <style>\n",
              "                .geemap-dark {\n",
              "                    --jp-widgets-color: white;\n",
              "                    --jp-widgets-label-color: white;\n",
              "                    --jp-ui-font-color1: white;\n",
              "                    --jp-layout-color2: #454545;\n",
              "                    background-color: #383838;\n",
              "                }\n",
              "\n",
              "                .geemap-dark .jupyter-button {\n",
              "                    --jp-layout-color3: #383838;\n",
              "                }\n",
              "\n",
              "                .geemap-colab {\n",
              "                    background-color: var(--colab-primary-surface-color, white);\n",
              "                }\n",
              "\n",
              "                .geemap-colab .jupyter-button {\n",
              "                    --jp-layout-color3: var(--colab-primary-surface-color, white);\n",
              "                }\n",
              "            </style>\n",
              "            "
            ]
          },
          "metadata": {}
        }
      ]
    },
    {
      "cell_type": "markdown",
      "source": [
        "Lectura de capas de datos"
      ],
      "metadata": {
        "id": "geOT23sFfpTK"
      }
    },
    {
      "cell_type": "code",
      "source": [
        "punto_interes = ee.Geometry.Point([-103.76, 19.75])\n",
        "print(punto_interes.getInfo())\n",
        "\n",
        "L8_collection = ee.ImageCollection(\"LANDSAT/LC08/C02/T1_L2\").filterBounds(punto_interes).filterDate('2015-03-01', '2015-05-15')\n",
        "print(L8_collection.size().getInfo())\n",
        "\n",
        "# Load an image (Landsat 8).\n",
        "L8_image = L8_collection.first()\n",
        "\n",
        "# Load builtup 2015 (res 100 m)\n",
        "ghs_built_image = ee.Image('JRC/GHSL/P2023A/GHS_BUILT_S/2015')\n",
        "built_2015_lr = ghs_built_image.select('built_surface')\n",
        "\n",
        "# Load builtup 2015 (res 10 m)\n",
        "built_2015_hr = ee.Image('DLR/WSF/WSF2015/v1')\n",
        "\n",
        "# blackBackground = ee.Image(0);\n"
      ],
      "metadata": {
        "id": "MEqGIlyoe-mj",
        "colab": {
          "base_uri": "https://localhost:8080/",
          "height": 52
        },
        "outputId": "841a5c5e-abca-420a-dbac-74365a9483ad"
      },
      "execution_count": 5,
      "outputs": [
        {
          "output_type": "display_data",
          "data": {
            "text/plain": [
              "<IPython.core.display.HTML object>"
            ],
            "text/html": [
              "\n",
              "            <style>\n",
              "                .geemap-dark {\n",
              "                    --jp-widgets-color: white;\n",
              "                    --jp-widgets-label-color: white;\n",
              "                    --jp-ui-font-color1: white;\n",
              "                    --jp-layout-color2: #454545;\n",
              "                    background-color: #383838;\n",
              "                }\n",
              "\n",
              "                .geemap-dark .jupyter-button {\n",
              "                    --jp-layout-color3: #383838;\n",
              "                }\n",
              "\n",
              "                .geemap-colab {\n",
              "                    background-color: var(--colab-primary-surface-color, white);\n",
              "                }\n",
              "\n",
              "                .geemap-colab .jupyter-button {\n",
              "                    --jp-layout-color3: var(--colab-primary-surface-color, white);\n",
              "                }\n",
              "            </style>\n",
              "            "
            ]
          },
          "metadata": {}
        },
        {
          "output_type": "stream",
          "name": "stdout",
          "text": [
            "{'type': 'Point', 'coordinates': [-103.76, 19.75]}\n",
            "4\n"
          ]
        }
      ]
    },
    {
      "cell_type": "markdown",
      "source": [
        "Visualizar"
      ],
      "metadata": {
        "id": "vdTwwatwHOGz"
      }
    },
    {
      "cell_type": "code",
      "source": [
        "\n",
        "Map = geemap.Map()\n",
        "# Center the map and display the image.\n",
        "Map.centerObject(punto_interes, 8)\n",
        "\n",
        "# Define the visualization parameters L8\n",
        "vizParams_L8 = {\n",
        "  'bands': ['SR_B5', 'SR_B4', 'SR_B3'],\n",
        "   'min': 5000,\n",
        "   'max': 15000\n",
        "  #'gamma': [0.95, 1.1, 1]\n",
        "}\n",
        "# Define the visualization parameters Builtup LR\n",
        "vizBuiltup_LR = {\n",
        "   'min': 0,\n",
        "   'max': 1,\n",
        "  'palette': ['white','black']\n",
        "}\n",
        "# Define the visualization parameters Builtup HR\n",
        "vizBuiltup_HR = {\n",
        "  min: 0,\n",
        "  max: 255,\n",
        "  'palette': ['white','black']\n",
        "}\n",
        "\n",
        "# Add layers\n",
        "Map.addLayer(L8_image, vizParams_L8, 'Composición de falso color', True, 0.5)\n",
        "Map.addLayer(built_2015_lr, vizBuiltup_LR, 'Builtup 2015 100m', True, 0.5)\n",
        "Map.addLayer(built_2015_hr, vizBuiltup_HR, 'Builtup 2015 10m', True, 0.5)\n",
        "\n",
        "# Display the map\n",
        "Map\n"
      ],
      "metadata": {
        "colab": {
          "base_uri": "https://localhost:8080/",
          "height": 621,
          "referenced_widgets": [
            "8690bed7c7ae4ed3ad0a90c2937432d7",
            "497b812910434c2e841d6fb9aaabe31f",
            "6497891d59404d8788cafc89b2092a2d",
            "378be4a1c6304d6e9d61e7d48ac96eeb",
            "7c8406c74c324adeabd5e4384d2c0c93",
            "dc31e3c7d0a445eebeb6dbcd29969a88",
            "986ca34302f4473991731bee91263bb8",
            "b308bb5dc69841db927751febec0b91b",
            "140521d39228465b893473f09724cb68",
            "da6faa6cd596479885d1fc77473b04a3",
            "fba489d0c60345b78585dd1ddc3b24b4",
            "24e3b23b538c469895147725ec823fbf",
            "07287ffc6960499e9f4661e360d2d76f",
            "fd2961e72c9e4d4e95afd42f5bd0882f",
            "ff019294f8674e2c85091e4d99fabd1b",
            "152853625532412fa4bcb98b724a4720",
            "299a9599aeb44628a5433120cd0c2bd1",
            "2f2902df4c774f4d91f1323529505876",
            "e609eab16c004afa84a967a69c27ad5a",
            "3e992f93f00b41cd8bc36a6ae8da5ea4",
            "096edebe6de34353be70655df6fa5e36",
            "52e950eb15bf4ed79b91126e9b8cb609",
            "dc88c5d7064b4109882087efa35a0300",
            "a67a7cce5f5f4f2180e00e6586b61a74",
            "3b934be5412543758d7075540d2b5c07",
            "b01ce75c4032482e9bff585ef77a833c",
            "eb650f5fb0ce4c1285843ef05ceaf762"
          ]
        },
        "id": "vVrWdoqwHNaQ",
        "outputId": "f3b2a34e-55ec-4db3-bc8d-67f63cc9b1f1"
      },
      "execution_count": 6,
      "outputs": [
        {
          "output_type": "display_data",
          "data": {
            "text/plain": [
              "<IPython.core.display.HTML object>"
            ],
            "text/html": [
              "\n",
              "            <style>\n",
              "                .geemap-dark {\n",
              "                    --jp-widgets-color: white;\n",
              "                    --jp-widgets-label-color: white;\n",
              "                    --jp-ui-font-color1: white;\n",
              "                    --jp-layout-color2: #454545;\n",
              "                    background-color: #383838;\n",
              "                }\n",
              "\n",
              "                .geemap-dark .jupyter-button {\n",
              "                    --jp-layout-color3: #383838;\n",
              "                }\n",
              "\n",
              "                .geemap-colab {\n",
              "                    background-color: var(--colab-primary-surface-color, white);\n",
              "                }\n",
              "\n",
              "                .geemap-colab .jupyter-button {\n",
              "                    --jp-layout-color3: var(--colab-primary-surface-color, white);\n",
              "                }\n",
              "            </style>\n",
              "            "
            ]
          },
          "metadata": {}
        },
        {
          "output_type": "display_data",
          "data": {
            "text/plain": [
              "Map(center=[19.75, -103.76], controls=(WidgetControl(options=['position', 'transparent_bg'], widget=SearchData…"
            ],
            "application/vnd.jupyter.widget-view+json": {
              "version_major": 2,
              "version_minor": 0,
              "model_id": "8690bed7c7ae4ed3ad0a90c2937432d7"
            }
          },
          "metadata": {
            "application/vnd.jupyter.widget-view+json": {
              "colab": {
                "custom_widget_manager": {
                  "url": "https://ssl.gstatic.com/colaboratory-static/widgets/colab-cdn-widget-manager/2b70e893a8ba7c0f/manager.min.js"
                }
              }
            }
          }
        }
      ]
    },
    {
      "cell_type": "markdown",
      "source": [
        "Pruebas para convertir a numpy"
      ],
      "metadata": {
        "id": "UmLFuG_XHBgq"
      }
    },
    {
      "cell_type": "code",
      "source": [
        "bands_L8 = ['SR_B2','SR_B3','SR_B4','SR_B5','SR_B6','SR_B7']\n",
        "bands_B = ['settlement']\n",
        "\n",
        "def tile_to_numpy(image, rectangle, bands):\n",
        "  ## extraccion de bandas en un region rectangular\n",
        "  image_tile = image.sampleRectangle(region=rectangle,defaultValue=0)\n",
        "  first_band = image_tile.get(bands[0])\n",
        "  band_array_np = np.array(first_band.getInfo())\n",
        "  band_array_np = np.expand_dims(band_array_np, 2)\n",
        "  for b in bands[1:]:\n",
        "    b_arr = image_tile.get(b)\n",
        "    b_arr_np = np.array(b_arr.getInfo())\n",
        "    b_arr_np = np.expand_dims(b_arr_np, 2)\n",
        "    #print(b_arr_np.shape)\n",
        "    #print(band_array_np.shape)\n",
        "    band_array_np = np.concatenate((band_array_np, b_arr_np), 2)\n",
        "  return band_array_np\n",
        "\n",
        "\n",
        "\n",
        "image_meta = L8_image.getInfo()\n",
        "imagename = image_meta.get('properties',{}).get('PRODUCT_ID')\n",
        "print(imagename)\n",
        "\n",
        "projection = L8_image.projection().getInfo();\n",
        "print(projection)\n",
        "\n",
        "#print(geemap.image_props(image).getInfo())\n",
        "\n",
        "# definición de un region pequeño para el analisis\n",
        "aoi1 = ee.Geometry.Polygon(\n",
        "        [[[-103.39846006557397, 20.721686475573005],\n",
        "          [-103.39846006557397, 20.694710560279958],\n",
        "          [-103.36309782192163, 20.694710560279958],\n",
        "          [-103.36309782192163, 20.721686475573005]]], None, False);\n",
        "aoi2 = ee.Geometry.Polygon(\n",
        "        [[[-103.36309782192163, 20.721686475573005],\n",
        "          [-103.36309782192163, 20.694710560279958],\n",
        "          [-103.32773557826929, 20.694710560279958],\n",
        "          [-103.32773557826929, 20.721686475573005]]], None, False);\n",
        "\n",
        "\n",
        "array1 = tile_to_numpy(L8_image, aoi1, bands_L8)\n",
        "print(\"First array\", array1.shape)\n",
        "array2 = tile_to_numpy(L8_image, aoi2, bands_L8)\n",
        "print(\"Second array\", array2.shape)\n",
        "\n",
        "\n",
        "array_full = np.concatenate((array1, array2), 1)\n",
        "print(\"Full array\", array_full.shape)\n",
        "\n",
        "import matplotlib.pyplot as plt\n",
        "\n",
        "# Scale the data to [0, 255] to show as an RGB image.\n",
        "rgb_img_test = (255*((array_full - 5000)/30000)).astype('uint8')\n",
        "plt.imshow(rgb_img_test[:,:,2:5])\n",
        "plt.show()\n",
        "\n"
      ],
      "metadata": {
        "colab": {
          "base_uri": "https://localhost:8080/",
          "height": 355
        },
        "id": "uoojemSPHAcP",
        "outputId": "e0b3d878-f99f-4942-84fa-d9a6640aef04"
      },
      "execution_count": 26,
      "outputs": [
        {
          "output_type": "display_data",
          "data": {
            "text/plain": [
              "<IPython.core.display.HTML object>"
            ],
            "text/html": [
              "\n",
              "            <style>\n",
              "                .geemap-dark {\n",
              "                    --jp-widgets-color: white;\n",
              "                    --jp-widgets-label-color: white;\n",
              "                    --jp-ui-font-color1: white;\n",
              "                    --jp-layout-color2: #454545;\n",
              "                    background-color: #383838;\n",
              "                }\n",
              "\n",
              "                .geemap-dark .jupyter-button {\n",
              "                    --jp-layout-color3: #383838;\n",
              "                }\n",
              "\n",
              "                .geemap-colab {\n",
              "                    background-color: var(--colab-primary-surface-color, white);\n",
              "                }\n",
              "\n",
              "                .geemap-colab .jupyter-button {\n",
              "                    --jp-layout-color3: var(--colab-primary-surface-color, white);\n",
              "                }\n",
              "            </style>\n",
              "            "
            ]
          },
          "metadata": {}
        },
        {
          "output_type": "stream",
          "name": "stdout",
          "text": [
            "None\n",
            "{'type': 'Projection', 'crs': 'EPSG:32613', 'transform': [30, 0, 552285, 0, -30, 2352915]}\n",
            "First array (102, 124, 6)\n",
            "Second array (102, 125, 6)\n",
            "Full array (102, 249, 6)\n"
          ]
        },
        {
          "output_type": "display_data",
          "data": {
            "text/plain": [
              "<Figure size 640x480 with 1 Axes>"
            ],
            "image/png": "[encoded data removed]"
          },
          "metadata": {}
        }
      ]
    },
    {
      "cell_type": "code",
      "source": [
        "## Resample\n",
        "built_2015_hr_mean = built_2015_hr.reproject(projection.get('crs'), projection.get('transform'))\n",
        "\n",
        "print(built_2015_hr_mean.getInfo())\n",
        "\n",
        "#proj = ee.Projection('EPSG:4326').getInfo()\n",
        "#built_2015_hr_mean = built_2015_hr.reproject(proj.get('crs'), None, 30)\n",
        "#print(built_2015_hr_mean.getInfo())\n",
        "\n",
        "Map1 = geemap.Map()\n",
        "Map1.centerObject(punto_interes, 8)\n",
        "Map1.addLayer(built_2015_hr_mean, vizBuiltup_HR, 'Builtup 2015 10m', True, 0.5)\n",
        "Map1\n",
        "\n",
        "array3 = tile_to_numpy(built_2015_hr_mean, aoi1, bands_B)\n",
        "print(\"B array 3\", array3.shape)\n",
        "array4 = tile_to_numpy(built_2015_hr_mean, aoi2, bands_B)\n",
        "print(\"B array 4\", array4.shape)\n",
        "\n",
        "array_labels = np.concatenate((array3, array4), 1)\n",
        "print(\"Full labels array\", array_labels.shape)\n",
        "\n",
        "# Scale the data to [0, 255] to show as an RGB image.\n",
        "B_img_test = (array_labels).astype('uint8')\n",
        "plt.imshow(B_img_test[:,:,0])\n",
        "plt.show()\n"
      ],
      "metadata": {
        "colab": {
          "base_uri": "https://localhost:8080/",
          "height": 357
        },
        "id": "sfZI2FIlU74K",
        "outputId": "aeb7d4e1-4682-481b-9acb-c9aa28114186"
      },
      "execution_count": 27,
      "outputs": [
        {
          "output_type": "display_data",
          "data": {
            "text/plain": [
              "<IPython.core.display.HTML object>"
            ],
            "text/html": [
              "\n",
              "            <style>\n",
              "                .geemap-dark {\n",
              "                    --jp-widgets-color: white;\n",
              "                    --jp-widgets-label-color: white;\n",
              "                    --jp-ui-font-color1: white;\n",
              "                    --jp-layout-color2: #454545;\n",
              "                    background-color: #383838;\n",
              "                }\n",
              "\n",
              "                .geemap-dark .jupyter-button {\n",
              "                    --jp-layout-color3: #383838;\n",
              "                }\n",
              "\n",
              "                .geemap-colab {\n",
              "                    background-color: var(--colab-primary-surface-color, white);\n",
              "                }\n",
              "\n",
              "                .geemap-colab .jupyter-button {\n",
              "                    --jp-layout-color3: var(--colab-primary-surface-color, white);\n",
              "                }\n",
              "            </style>\n",
              "            "
            ]
          },
          "metadata": {}
        },
        {
          "output_type": "stream",
          "name": "stdout",
          "text": [
            "{'type': 'Image', 'bands': [{'id': 'settlement', 'data_type': {'type': 'PixelType', 'precision': 'int', 'min': 0, 'max': 255}, 'crs': 'EPSG:32613', 'crs_transform': [30, 0, 552285, 0, -30, 2352915]}], 'id': 'DLR/WSF/WSF2015/v1', 'version': 1641990115208687, 'properties': {'date_range': [1420070400000, 1451606400000], 'period': 0, 'type_name': 'Image', 'keywords': ['landcover', 'landsat-derived', 'sentinel1-derived', 'settlement', 'urban'], 'system:time_end': 1451520000000, 'description': '<p>The World Settlement Footprint (WSF) 2015 is a 10m resolution binary mask\\noutlining the extent of human settlements globally derived by means of\\n2014-2015 multitemporal Landsat-8 and Sentinel-1 imagery (of which ~217,000 and\\n~107,000 scenes have been processed, respectively).</p><p>The temporal dynamics of human settlements over time are\\nsensibly different than those of all other non-settlement information classes.\\nHence, given all the multitemporal images available over a region of interest\\nin the selected time interval, key temporal statistics (i.e., temporal mean,\\nminimum, maximum, etc.) are extracted for:</p><ul><li>the original backscattering value\\nin the case of radar data; and</li><li>different spectral indices (e.g., vegetation\\nindex, built-up index, etc.) derived after performing cloud masking in the case\\nof optical imagery.</li></ul><p>Next, different classification schemes based on Support\\nVector Machines (SVMs) are separately applied to the optical and radar temporal\\nfeatures, respectively, and, finally, the two outputs are properly combined\\ntogether.</p><p>To quantitatively assess the high accuracy and reliability of the\\nlayer, an extensive validation exercise has been carried out in collaboration\\nwith Google based on a huge amount of ground-truth samples (i.e., 900,000)\\nlabeled by crow-sourcing photo-interpretation. A statistically\\nrobust and transparent protocol has been defined following the state-of-the-art\\npractices currently recommended in the literature.</p><p>For all technical details, please refer to\\n<a href=\"https://www.nature.com/articles/s41597-020-00580-5\">the publication</a></p><p><b>Provider: <a href=\"https://www.dlr.de/\">Deutsches Zentrum für Luft- und Raumfahrt (DLR)</a></b><br><p><b>Bands</b><table class=\"eecat\"><tr><th scope=\"col\">Name</th><th scope=\"col\">Description</th></tr><tr><td>settlement</td><td><p>A human settlement area</p></td></tr></table><p><b>Terms of Use</b><br><p>CC0-1.0</p><br><b>Dataset\\'s DOI(s)</b><ul><li><p><a href=\"https://doi.org/10.1038/s41597-020-00580-5\">https://doi.org/10.1038/s41597-020-00580-5</a></li></ul><p><b>Suggested citation(s)</b><ul><li><p>Marconcini, M., Metz-Marconcini, A., Üreyen, S., Palacios-Lopez, D., Hanke, W., Bachofer, F.,\\nZeidler, J., Esch, T., Gorelick, N., Kakarla, A., Paganini, M., Strano, E. (2020).\\nOutlining where humans live, the World Settlement Footprint 2015. Scientific Data, 7(1), 1-14.\\n<a href=\"https://doi.org/10.1038/s41597-020-00580-5\">doi:10.1038/s41597-020-00580-5</a></p></li></ul><style>\\n  table.eecat {\\n  border: 1px solid black;\\n  border-collapse: collapse;\\n  font-size: 13px;\\n  }\\n  table.eecat td, tr, th {\\n  text-align: left; vertical-align: top;\\n  border: 1px solid gray; padding: 3px;\\n  }\\n  td.nobreak { white-space: nowrap; }\\n</style>', 'visualization_0_max': '255.0', 'provider_url': 'https://www.dlr.de/', 'title': 'World Settlement Footprint 2015', 'sample': 'https://mw1.google.com/ges/dd/images/DLR_WSF_WSF2015_v1_sample.png', 'tags': ['landcover', 'landsat-derived', 'sentinel1-derived', 'settlement', 'urban'], 'system:time_start': 1420070400000, 'provider': 'Deutsches Zentrum für Luft- und Raumfahrt (DLR)', 'system:footprint': {'type': 'LinearRing', 'coordinates': [[-180, -90], [180, -90], [180, 90], [-180, 90], [-180, -90]]}, 'visualization_0_min': '255.0', 'system:asset_size': 6706767225, 'visualization_0_name': 'A human settlement area', 'visualization_0_bands': 'settlement'}}\n",
            "B array 3 (102, 124, 1)\n",
            "B array 4 (102, 125, 1)\n",
            "Full labels array (102, 249, 1)\n"
          ]
        },
        {
          "output_type": "display_data",
          "data": {
            "text/plain": [
              "<Figure size 640x480 with 1 Axes>"
            ],
            "image/png": "[encoded data removed]"
          },
          "metadata": {}
        }
      ]
    },
    {
      "cell_type": "code",
      "source": [
        "array_full_t = np.transpose(array_full, (2, 0, 1))\n",
        "array_labels_t = np.transpose(array_labels, (2, 0, 1))\n",
        "print(array_full_t.shape)\n",
        "print(array_labels_t.shape)\n",
        "x_features = convert.array_to_table(array_full_t)\n",
        "y_labels = convert.array_to_table(array_labels_t)\n",
        "#featuresHyderabad = changeDimension(featuresHyderabad)\n",
        "nBands = x_features.shape[1]\n",
        "#labelBangalore = (labelBangalore == 1).astype(int)\n",
        "\n",
        "print(x_features.shape)\n",
        "print(x_features)\n",
        "print(y_labels.shape)\n",
        "print(y_labels)"
      ],
      "metadata": {
        "id": "kijzTLZEJitj",
        "outputId": "abaadf45-50d5-47ce-8734-01b8ede72647",
        "colab": {
          "base_uri": "https://localhost:8080/",
          "height": 329
        }
      },
      "execution_count": 34,
      "outputs": [
        {
          "output_type": "display_data",
          "data": {
            "text/plain": [
              "<IPython.core.display.HTML object>"
            ],
            "text/html": [
              "\n",
              "            <style>\n",
              "                .geemap-dark {\n",
              "                    --jp-widgets-color: white;\n",
              "                    --jp-widgets-label-color: white;\n",
              "                    --jp-ui-font-color1: white;\n",
              "                    --jp-layout-color2: #454545;\n",
              "                    background-color: #383838;\n",
              "                }\n",
              "\n",
              "                .geemap-dark .jupyter-button {\n",
              "                    --jp-layout-color3: #383838;\n",
              "                }\n",
              "\n",
              "                .geemap-colab {\n",
              "                    background-color: var(--colab-primary-surface-color, white);\n",
              "                }\n",
              "\n",
              "                .geemap-colab .jupyter-button {\n",
              "                    --jp-layout-color3: var(--colab-primary-surface-color, white);\n",
              "                }\n",
              "            </style>\n",
              "            "
            ]
          },
          "metadata": {}
        },
        {
          "output_type": "stream",
          "name": "stdout",
          "text": [
            "(6, 102, 249)\n",
            "(1, 102, 249)\n",
            "(25398, 6)\n",
            "[[13055 14038 15793 16994 17994 16298]\n",
            " [11986 13491 14971 16679 17979 16413]\n",
            " [11411 13234 14567 16829 17443 15831]\n",
            " ...\n",
            " [ 9434 10024 10446 13821 13243 12324]\n",
            " [10319 10916 11821 14878 14932 13856]\n",
            " [11988 12709 13541 16119 15902 14938]]\n",
            "(25398, 1)\n",
            "[[255]\n",
            " [255]\n",
            " [255]\n",
            " ...\n",
            " [255]\n",
            " [255]\n",
            " [255]]\n"
          ]
        }
      ]
    },
    {
      "cell_type": "code",
      "source": [
        "from sklearn.model_selection import train_test_split\n",
        "\n",
        "xTrain, xTest, yTrain, yTest = train_test_split(x_features, y_labels, test_size=0.4, random_state=42)\n",
        "\n",
        "print(xTrain.shape)\n",
        "print(yTrain.shape)\n",
        "\n",
        "print(xTest.shape)\n",
        "print(yTest.shape)\n",
        "\n",
        "# Normalise the data\n",
        "yTrain = yTrain / 255\n",
        "yTest = yTest / 255\n",
        "xTrain = xTrain / 32768\n",
        "xTest = xTest / 32768\n",
        "\n",
        "print(xTrain)\n",
        "print(yTrain)\n",
        "\n",
        "# Reshape the data\n",
        "xTrain = xTrain.reshape((xTrain.shape[0], 1, xTrain.shape[1]))\n",
        "xTest = xTest.reshape((xTest.shape[0], 1, xTest.shape[1]))\n",
        "\n",
        "print(xTrain.shape, xTest.shape)"
      ],
      "metadata": {
        "id": "ccrcJdAjKeSn",
        "outputId": "9d0ff3d6-488a-42fe-cfc3-2b323aa2240e",
        "colab": {
          "base_uri": "https://localhost:8080/",
          "height": 347
        }
      },
      "execution_count": 36,
      "outputs": [
        {
          "output_type": "display_data",
          "data": {
            "text/plain": [
              "<IPython.core.display.HTML object>"
            ],
            "text/html": [
              "\n",
              "            <style>\n",
              "                .geemap-dark {\n",
              "                    --jp-widgets-color: white;\n",
              "                    --jp-widgets-label-color: white;\n",
              "                    --jp-ui-font-color1: white;\n",
              "                    --jp-layout-color2: #454545;\n",
              "                    background-color: #383838;\n",
              "                }\n",
              "\n",
              "                .geemap-dark .jupyter-button {\n",
              "                    --jp-layout-color3: #383838;\n",
              "                }\n",
              "\n",
              "                .geemap-colab {\n",
              "                    background-color: var(--colab-primary-surface-color, white);\n",
              "                }\n",
              "\n",
              "                .geemap-colab .jupyter-button {\n",
              "                    --jp-layout-color3: var(--colab-primary-surface-color, white);\n",
              "                }\n",
              "            </style>\n",
              "            "
            ]
          },
          "metadata": {}
        },
        {
          "output_type": "stream",
          "name": "stdout",
          "text": [
            "(15238, 6)\n",
            "(15238, 1)\n",
            "(10160, 6)\n",
            "(10160, 1)\n",
            "[[0.32714844 0.36120605 0.41702271 0.45376587 0.53646851 0.50585938]\n",
            " [0.36019897 0.38583374 0.41516113 0.47723389 0.49517822 0.45193481]\n",
            " [0.32846069 0.35913086 0.38757324 0.42495728 0.4392395  0.40985107]\n",
            " ...\n",
            " [0.35540771 0.39575195 0.4180603  0.50219727 0.50311279 0.45187378]\n",
            " [0.30560303 0.32565308 0.34085083 0.4664917  0.42913818 0.38497925]\n",
            " [0.35067749 0.35906982 0.39105225 0.42843628 0.42391968 0.39492798]]\n",
            "[[1.]\n",
            " [1.]\n",
            " [1.]\n",
            " ...\n",
            " [1.]\n",
            " [1.]\n",
            " [1.]]\n",
            "(15238, 1, 6) (10160, 1, 6)\n"
          ]
        }
      ]
    },
    {
      "cell_type": "markdown",
      "source": [
        "Train neural network"
      ],
      "metadata": {
        "id": "47KcNV54PaTJ"
      }
    },
    {
      "cell_type": "code",
      "source": [
        "from tensorflow import keras\n",
        "\n",
        "# Define the parameters of the model\n",
        "model = keras.Sequential([\n",
        "    keras.layers.Flatten(input_shape=(1, nBands)),\n",
        "    keras.layers.Dense(14, activation='relu'),\n",
        "    keras.layers.Dense(2, activation='softmax')])\n",
        "\n",
        "# Define the accuracy metrics and parameters\n",
        "model.compile(optimizer=\"adam\", loss=\"sparse_categorical_crossentropy\", metrics=[\"accuracy\"])\n",
        "\n",
        "# Run the model\n",
        "model.fit(xTrain, yTrain, epochs=2)"
      ],
      "metadata": {
        "id": "zH7s6BC2PZ3V",
        "outputId": "7a769a70-6941-4579-b7a7-0a86693ad436",
        "colab": {
          "base_uri": "https://localhost:8080/",
          "height": 104
        }
      },
      "execution_count": 42,
      "outputs": [
        {
          "output_type": "display_data",
          "data": {
            "text/plain": [
              "<IPython.core.display.HTML object>"
            ],
            "text/html": [
              "\n",
              "            <style>\n",
              "                .geemap-dark {\n",
              "                    --jp-widgets-color: white;\n",
              "                    --jp-widgets-label-color: white;\n",
              "                    --jp-ui-font-color1: white;\n",
              "                    --jp-layout-color2: #454545;\n",
              "                    background-color: #383838;\n",
              "                }\n",
              "\n",
              "                .geemap-dark .jupyter-button {\n",
              "                    --jp-layout-color3: #383838;\n",
              "                }\n",
              "\n",
              "                .geemap-colab {\n",
              "                    background-color: var(--colab-primary-surface-color, white);\n",
              "                }\n",
              "\n",
              "                .geemap-colab .jupyter-button {\n",
              "                    --jp-layout-color3: var(--colab-primary-surface-color, white);\n",
              "                }\n",
              "            </style>\n",
              "            "
            ]
          },
          "metadata": {}
        },
        {
          "output_type": "stream",
          "name": "stdout",
          "text": [
            "Epoch 1/2\n",
            "477/477 [==============================] - 1s 2ms/step - loss: 0.3092 - accuracy: 0.8946\n",
            "Epoch 2/2\n",
            "477/477 [==============================] - 1s 2ms/step - loss: 0.2408 - accuracy: 0.9224\n"
          ]
        },
        {
          "output_type": "execute_result",
          "data": {
            "text/plain": [
              "<keras.src.callbacks.History at 0x7e97172b5e40>"
            ]
          },
          "metadata": {},
          "execution_count": 42
        }
      ]
    },
    {
      "cell_type": "code",
      "source": [
        "from sklearn.metrics import confusion_matrix, precision_score, recall_score\n",
        "\n",
        "# Predict for test data\n",
        "yTestPredicted = model.predict(xTest)\n",
        "yTestPredicted = yTestPredicted[:,1]\n",
        "\n",
        "# Calculate and display the error metrics\n",
        "yTestPredicted = (yTestPredicted>0.5).astype(int)\n",
        "cMatrix = confusion_matrix(yTest, yTestPredicted)\n",
        "pScore = precision_score(yTest, yTestPredicted)\n",
        "rScore = recall_score(yTest, yTestPredicted)\n",
        "\n",
        "print(\"Confusion matrix:\\n\", cMatrix)\n",
        "print(\"\\nprecision: %.3f, recall: %.3f\" % (pScore, rScore))"
      ],
      "metadata": {
        "id": "71s60WrhOTdU",
        "outputId": "93c0c092-2670-49ce-8091-da1e77ff9080",
        "colab": {
          "base_uri": "https://localhost:8080/",
          "height": 121
        }
      },
      "execution_count": 43,
      "outputs": [
        {
          "output_type": "display_data",
          "data": {
            "text/plain": [
              "<IPython.core.display.HTML object>"
            ],
            "text/html": [
              "\n",
              "            <style>\n",
              "                .geemap-dark {\n",
              "                    --jp-widgets-color: white;\n",
              "                    --jp-widgets-label-color: white;\n",
              "                    --jp-ui-font-color1: white;\n",
              "                    --jp-layout-color2: #454545;\n",
              "                    background-color: #383838;\n",
              "                }\n",
              "\n",
              "                .geemap-dark .jupyter-button {\n",
              "                    --jp-layout-color3: #383838;\n",
              "                }\n",
              "\n",
              "                .geemap-colab {\n",
              "                    background-color: var(--colab-primary-surface-color, white);\n",
              "                }\n",
              "\n",
              "                .geemap-colab .jupyter-button {\n",
              "                    --jp-layout-color3: var(--colab-primary-surface-color, white);\n",
              "                }\n",
              "            </style>\n",
              "            "
            ]
          },
          "metadata": {}
        },
        {
          "output_type": "stream",
          "name": "stdout",
          "text": [
            "318/318 [==============================] - 0s 1ms/step\n",
            "Confusion matrix:\n",
            " [[   0  773]\n",
            " [   0 9387]]\n",
            "\n",
            "precision: 0.924, recall: 1.000\n"
          ]
        }
      ]
    },
    {
      "cell_type": "code",
      "source": [
        "x_features_n = x_features / 32768\n",
        "x_features_n = x_features_n.reshape((x_features_n.shape[0], 1, x_features_n.shape[1]))\n",
        "\n",
        "predicted = model.predict(x_features_n)\n",
        "predicted = predicted[:,1]\n",
        "\n",
        "\n",
        "#Export raster\n",
        "prediction = np.reshape(predicted, (array_labels.shape[0], array_labels.shape[1]))\n",
        "B_img_pred = (prediction).astype('uint8')\n",
        "plt.imshow(B_img_pred[:,:])\n",
        "plt.show()"
      ],
      "metadata": {
        "id": "KqbnWHp2RUUu",
        "outputId": "ac55bf18-a11f-4810-a860-19475dc83025",
        "colab": {
          "base_uri": "https://localhost:8080/",
          "height": 285
        }
      },
      "execution_count": 41,
      "outputs": [
        {
          "output_type": "display_data",
          "data": {
            "text/plain": [
              "<IPython.core.display.HTML object>"
            ],
            "text/html": [
              "\n",
              "            <style>\n",
              "                .geemap-dark {\n",
              "                    --jp-widgets-color: white;\n",
              "                    --jp-widgets-label-color: white;\n",
              "                    --jp-ui-font-color1: white;\n",
              "                    --jp-layout-color2: #454545;\n",
              "                    background-color: #383838;\n",
              "                }\n",
              "\n",
              "                .geemap-dark .jupyter-button {\n",
              "                    --jp-layout-color3: #383838;\n",
              "                }\n",
              "\n",
              "                .geemap-colab {\n",
              "                    background-color: var(--colab-primary-surface-color, white);\n",
              "                }\n",
              "\n",
              "                .geemap-colab .jupyter-button {\n",
              "                    --jp-layout-color3: var(--colab-primary-surface-color, white);\n",
              "                }\n",
              "            </style>\n",
              "            "
            ]
          },
          "metadata": {}
        },
        {
          "output_type": "stream",
          "name": "stdout",
          "text": [
            "794/794 [==============================] - 2s 2ms/step\n"
          ]
        },
        {
          "output_type": "display_data",
          "data": {
            "text/plain": [
              "<Figure size 640x480 with 1 Axes>"
            ],
            "image/png": "[encoded data removed]"
          },
          "metadata": {}
        }
      ]
    },
    {
      "cell_type": "code",
      "source": [
        "def loadTiff(in_image, init=None, size_img=None):\n",
        "    src = raster.read(in_image, bands='all')\n",
        "    nbands = src.RasterCount\n",
        "    in_band = src.GetRasterBand(1)  # load one band for size reference\n",
        "    if init is None:\n",
        "        xinit,yinit = (0, 0)\n",
        "    else:\n",
        "        xinit,yinit = init\n",
        "    if size_img is None:\n",
        "        block_xsize, block_ysize = (in_band.XSize, in_band.YSize)\n",
        "    else:\n",
        "        block_xsize, block_ysize = size_img\n",
        "\n",
        "    # read the (multiband) file into an array\n",
        "    image = src.ReadAsArray(xinit, yinit, block_xsize, block_ysize)\n",
        "    # reshape from bandsxheightxwidth to wxhxb\n",
        "    image = np.moveaxis(image, 0, -1)\n",
        "    return image, block_ysize, block_xsize, nbands\n",
        "\n",
        "#[img, xsize, ysize, nbands] = loadTiff(os.path.join(drive,image))"
      ],
      "metadata": {
        "colab": {
          "base_uri": "https://localhost:8080/",
          "height": 17
        },
        "id": "yMqL-iJ5Hfi5",
        "outputId": "a078c3fd-9697-42c7-e67d-261ef5bdca8e"
      },
      "execution_count": 40,
      "outputs": [
        {
          "output_type": "display_data",
          "data": {
            "text/plain": [
              "<IPython.core.display.HTML object>"
            ],
            "text/html": [
              "\n",
              "            <style>\n",
              "                .geemap-dark {\n",
              "                    --jp-widgets-color: white;\n",
              "                    --jp-widgets-label-color: white;\n",
              "                    --jp-ui-font-color1: white;\n",
              "                    --jp-layout-color2: #454545;\n",
              "                    background-color: #383838;\n",
              "                }\n",
              "\n",
              "                .geemap-dark .jupyter-button {\n",
              "                    --jp-layout-color3: #383838;\n",
              "                }\n",
              "\n",
              "                .geemap-colab {\n",
              "                    background-color: var(--colab-primary-surface-color, white);\n",
              "                }\n",
              "\n",
              "                .geemap-colab .jupyter-button {\n",
              "                    --jp-layout-color3: var(--colab-primary-surface-color, white);\n",
              "                }\n",
              "            </style>\n",
              "            "
            ]
          },
          "metadata": {}
        }
      ]
    },
    {
      "cell_type": "code",
      "source": [
        "#task_config = {\n",
        "#    'image': image,\n",
        "#    'fileFormat': 'GeoTIFF',\n",
        "#    'folder': 'test_L8_image',\n",
        "#    'fileNamePrefix': imagename[0:19],\n",
        "#    'crs': projection,\n",
        "#    'crsTransform': projection.transform,\n",
        "#    'description': \"clipped area\",\n",
        "#    'scale':20,\n",
        "#    'region':poly_area\n",
        "#}\n",
        "\n",
        "\n",
        "# This is how we order it to start\n",
        "#task = ee.batch.Export.image.toDrive(**task_config )\n",
        "#task.start()\n",
        "\n",
        "### check task status - you can see if it failed, it's running or finished\n",
        "#task.status()"
      ],
      "metadata": {
        "colab": {
          "base_uri": "https://localhost:8080/",
          "height": 17
        },
        "id": "u9LPKGRt5_H3",
        "outputId": "d7e6e0e5-588f-4428-fb3a-d30aa3fe11e6"
      },
      "execution_count": 41,
      "outputs": [
        {
          "output_type": "display_data",
          "data": {
            "text/plain": [
              "<IPython.core.display.HTML object>"
            ],
            "text/html": [
              "\n",
              "            <style>\n",
              "                .geemap-dark {\n",
              "                    --jp-widgets-color: white;\n",
              "                    --jp-widgets-label-color: white;\n",
              "                    --jp-ui-font-color1: white;\n",
              "                    --jp-layout-color2: #454545;\n",
              "                    background-color: #383838;\n",
              "                }\n",
              "\n",
              "                .geemap-dark .jupyter-button {\n",
              "                    --jp-layout-color3: #383838;\n",
              "                }\n",
              "\n",
              "                .geemap-colab {\n",
              "                    background-color: var(--colab-primary-surface-color, white);\n",
              "                }\n",
              "\n",
              "                .geemap-colab .jupyter-button {\n",
              "                    --jp-layout-color3: var(--colab-primary-surface-color, white);\n",
              "                }\n",
              "            </style>\n",
              "            "
            ]
          },
          "metadata": {}
        }
      ]
    },
    {
      "cell_type": "code",
      "source": [
        "#drive = \"/content/drive/MyDrive/exercise/\"\n",
        "\n",
        "### loading the file\n",
        "#s2_data = \"test_L8_image\"\n",
        "\n",
        "### loading and checking\n",
        "#ds1, bands = raster.read(s2_data)\n",
        "#print(ds1)\n",
        "#print(bands.shape)"
      ],
      "metadata": {
        "colab": {
          "base_uri": "https://localhost:8080/",
          "height": 17
        },
        "id": "K5w73gOP6uMG",
        "outputId": "033549c2-a71e-42f7-8731-54f5530ae4b3"
      },
      "execution_count": 42,
      "outputs": [
        {
          "output_type": "display_data",
          "data": {
            "text/plain": [
              "<IPython.core.display.HTML object>"
            ],
            "text/html": [
              "\n",
              "            <style>\n",
              "                .geemap-dark {\n",
              "                    --jp-widgets-color: white;\n",
              "                    --jp-widgets-label-color: white;\n",
              "                    --jp-ui-font-color1: white;\n",
              "                    --jp-layout-color2: #454545;\n",
              "                    background-color: #383838;\n",
              "                }\n",
              "\n",
              "                .geemap-dark .jupyter-button {\n",
              "                    --jp-layout-color3: #383838;\n",
              "                }\n",
              "\n",
              "                .geemap-colab {\n",
              "                    background-color: var(--colab-primary-surface-color, white);\n",
              "                }\n",
              "\n",
              "                .geemap-colab .jupyter-button {\n",
              "                    --jp-layout-color3: var(--colab-primary-surface-color, white);\n",
              "                }\n",
              "            </style>\n",
              "            "
            ]
          },
          "metadata": {}
        }
      ]
    }
  ]
}